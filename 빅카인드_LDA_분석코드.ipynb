{
  "cells": [
    {
      "cell_type": "code",
      "execution_count": 1,
      "metadata": {
        "colab": {
          "base_uri": "https://localhost:8080/"
        },
        "id": "In7uwLfAFXlH",
        "outputId": "26f47b42-0e9d-4cc4-9a2d-fe8649809013"
      },
      "outputs": [
        {
          "output_type": "stream",
          "name": "stdout",
          "text": [
            "Requirement already satisfied: konlpy in /usr/local/lib/python3.10/dist-packages (0.6.0)\n",
            "Requirement already satisfied: JPype1>=0.7.0 in /usr/local/lib/python3.10/dist-packages (from konlpy) (1.5.0)\n",
            "Requirement already satisfied: lxml>=4.1.0 in /usr/local/lib/python3.10/dist-packages (from konlpy) (4.9.4)\n",
            "Requirement already satisfied: numpy>=1.6 in /usr/local/lib/python3.10/dist-packages (from konlpy) (1.25.2)\n",
            "Requirement already satisfied: packaging in /usr/local/lib/python3.10/dist-packages (from JPype1>=0.7.0->konlpy) (24.0)\n"
          ]
        }
      ],
      "source": [
        "# konlpy 패키지 설치: 한국어 형태소 분석을 위한 라이브러리입니다.\n",
        "!pip install konlpy"
      ]
    },
    {
      "cell_type": "code",
      "execution_count": 2,
      "metadata": {
        "id": "FXMa0XqhFYAS"
      },
      "outputs": [],
      "source": [
        "# pandas 라이브러리를 pd라는 이름으로 임포트: 데이터 처리를 위한 주요 라이브러리입니다.\n",
        "import pandas as pd\n",
        "\n",
        "# konlpy 라이브러리에서 Okt 형태소 분석기를 임포트: 한국어 텍스트를 형태소 단위로 분석합니다.\n",
        "from konlpy.tag import Okt\n",
        "\n",
        "# 엑셀 파일을 데이터프레임 형태로 불러오기: 분석할 뉴스 데이터를 불러옵니다.\n",
        "df = pd.read_excel('/content/빅카인즈_인공지능_뉴스.xlsx')\n"
      ]
    },
    {
      "cell_type": "code",
      "source": [
        "df"
      ],
      "metadata": {
        "id": "K-G2THcI01qX",
        "colab": {
          "base_uri": "https://localhost:8080/",
          "height": 1000
        },
        "outputId": "460ea85f-708a-4cc1-cb24-c29ccad83291"
      },
      "execution_count": 3,
      "outputs": [
        {
          "output_type": "execute_result",
          "data": {
            "text/plain": [
              "            뉴스 식별자        일자   언론사                             기고자  \\\n",
              "0     1.100901e+06  20230322  중앙일보  이보람(lee.boram2@joongang.co.kr)   \n",
              "1     1.101001e+06  20230322   한겨레                          박병수 기자   \n",
              "2     1.100401e+06  20230322  동아일보                             박태근   \n",
              "3     1.100101e+06  20230322  경향신문       김은성 기자 kes@kyunghyang.com   \n",
              "4     1.100611e+06  20230322  서울신문                             이상훈   \n",
              "...            ...       ...   ...                             ...   \n",
              "5606  1.100701e+06  20220322  세계일보                             오상도   \n",
              "5607  1.100701e+06  20220322  세계일보                             이보람   \n",
              "5608  1.100901e+06  20220322  중앙일보                             NaN   \n",
              "5609  1.100901e+06  20220322  중앙일보                             김승수   \n",
              "5610  1.100901e+06  20220322  중앙일보   박한슬(c_project@joongang.co.kr)   \n",
              "\n",
              "                                                     제목     통합 분류1  \\\n",
              "0                     트럼프, 주황 죄수복 입고 바닥 청소 이 사진 정체 알고보니   국제>미국_북미   \n",
              "1                        트럼프 체포됐다고? AI로 만든 가짜 사진 퍼지며 논란   국제>미국_북미   \n",
              "2                  트럼프가 체포됐다? “다리가 이상해” AI 가짜 이미지에 ‘깜빡’   국제>미국_북미   \n",
              "3                  ‘선허용 후규제’ AI법 논란  시민단체 “사회 경제 손실 초래”    경제>경제일반   \n",
              "4                      비브스튜디오스, 몬스터유니온과 드라마 공동제작 MOU 체결  IT_과학>콘텐츠   \n",
              "...                                                 ...        ...   \n",
              "5606                               경기도정 ‘디지털 전환’ 청사진 제시      지역>경기   \n",
              "5607                           AI 횡단보도가 휠체어 감지해 보행신호 연장      지역>울산   \n",
              "5608                         [삶의 향기] ‘쓰봉’과 ‘우와기’ 기억하시나요      문화>출판   \n",
              "5609        [라이프 트렌드&] “신제품을 얻은 듯 만족”   쓸수록 진화하는 ‘UP가전’  IT_과학>모바일   \n",
              "5610  공무원 추첨제 꺼낸 약사 출신, '약사도 추첨제 하셈' 지적에 [박한슬의 댓글 읽어...   사회>교육_시험   \n",
              "\n",
              "          통합 분류2      통합 분류3         사건/사고 분류1 사건/사고 분류2 사건/사고 분류3  \\\n",
              "0       국제>유럽_EU      국제>중남미               NaN       NaN       NaN   \n",
              "1       국제>유럽_EU      국제>중남미               NaN       NaN       NaN   \n",
              "2         국제>중남미       국제>일본  사회>사회갈등>반란_혁명_폭동       NaN       NaN   \n",
              "3            NaN         NaN      범죄>기업범죄>거래제한       NaN       NaN   \n",
              "4      IT_과학>모바일         NaN               NaN       NaN       NaN   \n",
              "...          ...         ...               ...       ...       ...   \n",
              "5606   IT_과학>콘텐츠   IT_과학>모바일          사고>스포츠사고       NaN       NaN   \n",
              "5607       지역>경기       지역>강원               NaN       NaN       NaN   \n",
              "5608    문화>방송_연예       문화>음악               NaN       NaN       NaN   \n",
              "5609   IT_과학>콘텐츠    IT_과학>보안               NaN       NaN       NaN   \n",
              "5610       사회>여성         NaN               NaN       NaN       NaN   \n",
              "\n",
              "                   인물                   위치  \\\n",
              "0     트럼프,도널드 트럼프,엘리엇            미국,맨해튼,뉴욕   \n",
              "1     트럼프,도널드 트럼프,엘리엇         미국,회계,맨해튼,뉴욕   \n",
              "2         트럼프,도널드 트럼프            미국,맨해튼,뉴욕   \n",
              "3           김병욱,빌 게이츠               주문도,미국   \n",
              "4          김형준,버추,김세규               곤지암,독창   \n",
              "...               ...                  ...   \n",
              "5606              NaN           경기,행정시,경기도   \n",
              "5607              NaN               남구,울산시   \n",
              "5608              NaN   우와기,일본,지구,옥도,한국,오봉   \n",
              "5609           류재철,김모   에어로타워,서울,하도,하길,마포구   \n",
              "5610    박,김경율,박한슬,문제일  회계,무의,가산,네덜란드,하단,저도   \n",
              "\n",
              "                                                     기관  \\\n",
              "0                                    AP통신,히긴스,맨해튼지검,트위터   \n",
              "1                                         히긴스,맨해튼지검,트위터   \n",
              "2                            벨링캣,AP통신,영국,검찰,히긴스,백악관,트위터   \n",
              "3     과학기술정보방송통신위원회,민주사회를위한변호사모임,MS,공익법센터,국회,법제사법위원회...   \n",
              "4      버츄얼,비브스튜디오스,K-,CGI,imm,하이브,메타,몬스터유니온,KBS,KBS대하드라   \n",
              "...                                                 ...   \n",
              "5606                              애플,메타,경기도정,경기도,정보화위원회   \n",
              "5607                                    교통안전공단,울산시,울산시청   \n",
              "5608                        일화,쓰봉,K팝,독어독문학과,동서양,장단,성균관대   \n",
              "5609                H&A사업본부,H&A인공지능CX팀,ThinQ,LG전자,UP,LG   \n",
              "5610                             공무원,정부,알바생,PI,필진,공무원시험   \n",
              "\n",
              "                                                    키워드  \\\n",
              "0     트럼프,주황,죄수복,바닥,청소,사진,정체,도널드,트럼프,미국,대통령,당국,체포,가능...   \n",
              "1     트럼프,체포,AI,가짜,사진,논란,도널드,트럼프,미국,대통령,수갑,연행,가짜,사진,...   \n",
              "2     트럼프,체포,다리,AI,가짜,이미지,입막음,혐의,기소,위기,도널드,트럼프,미국,대통...   \n",
              "3     AI,논란,시민단체,사회,경제,손실,초래,정보,인권관련,시민단체들,상정,국회,본회의...   \n",
              "4     비브스튜디오스,몬스터유니온,드라마,공동,제작,MOU,체결,고려거란전쟁,KBS,대하사...   \n",
              "...                                                 ...   \n",
              "5606  전환,경기도정,디지털,청사진,제시,경기도,인공지능,활용,민원,서식,자동,작성,실물,...   \n",
              "5607  AI,횡단보도,휠체어,감지,보행,신호,연장,울산시청,횡단보도,울산시,남구,울산시청,...   \n",
              "5608  쓰봉,우와기,기억,우연,기회,친근감,휴게소,맥반석,오징어,이야기,우와기,소리,한참,...   \n",
              "5609  신제품,만족,진화,UP가전,LG전자,사용자,라이프,스타일,UP가전,개인화,경험,선사...   \n",
              "5610  공무,추첨,약사,출신,약사,추첨,하셈,지적,박한슬,댓글,고발,필진,자신,칼럼,댓글,...   \n",
              "\n",
              "                                      특성추출(가중치순 상위 50개)  \\\n",
              "0     뉴욕,경찰관,미국,트위,창립자,주황색,엘리엇,가능성,미드저니,인공지능,사진들,합의금...   \n",
              "1     벨링캣,미드저니,인공지능,엘리엇,창립자,소셜미디어,맨해튼지검,뉴욕,현지시각,회계조작...   \n",
              "2     ai,온라인,하긴스,뉴욕,기밀문서,백악관,사람들,입막음,뉴스영상,지지층,합의금,황금...   \n",
              "3     인공지능,ai,과방위,변호사,과기부,위원회,진보네트워크센터,희우,유럽연합,민변,기본...   \n",
              "4     비브스튜디오스,몬스터유니온,ai,스튜디오스,거란,공동제작,대하드라마,kbs,김세규,...   \n",
              "...                                                 ...   \n",
              "5606      경기도,행정서비스,정보화,체험존,신분증,시니어,류인권,시군,민원인,책임관,인공지능   \n",
              "5607  횡단보도,보행자,울산시,보행신호,교통약자,전광판,경광등,차량들,신호등,사업비,차세대...   \n",
              "5608  우리말,일본어,우와기,쓰봉,사자성어,성균관대,최명원,form,정체성,혼종,일본식,친...   \n",
              "5609   lg,up가전,사용자,오브제컬렉션,lg전자,신제품,김용준,개인화,류재철,디오스,빅데이터   \n",
              "5610  공무원,추첨제,사람들,박한슬,우리나라,공무원시험,일들,분들,wkdt,원픽,합격자,합...   \n",
              "\n",
              "                                                     본문  \\\n",
              "0     도널드 트럼프 전 미국 대통령이 최근 당국에 체포될 가능성이 있다고 주장하는 가운데...   \n",
              "1     도널드 트럼프 전 미국 대통령이 수갑을 차고 연행되는 ‘가짜 사진’이 온라인을 통해...   \n",
              "2     ‘성추문 입막음’ 등의 혐의로 기소 위기에 놓인 도널드 트럼프 전 미국 대통령이 경...   \n",
              "3     정보 인권관련 시민단체들이 국회 본회의 상정을 앞두고 있는 ‘인공지능산업 육성 및 ...   \n",
              "4     KBS 대하사극 ‘고려거란전쟁’ 비롯, 신규 콘텐츠 공동기획 및 제작 등 협력키로 ...   \n",
              "...                                                 ...   \n",
              "5606  앞으로 경기도에선 인공지능을 활용해 민원 서식을 자동으로 작성하거나 실물 신분증 대...   \n",
              "5607  울산시 남구 울산시청 앞 횡단보도. 보행자 신호가 3초 남았을 때 한 시민이 횡단보...   \n",
              "5608  우연한 기회에 차로 두어 시간을 가야 하는 곳에서 낯선, 그러나 곧 친근감을 갖게 ...   \n",
              "5609  LG전자, 사용자 라이프스타일에 맞춘 ‘UP가전’으로 초 개인화된 경험 선사\\n \\...   \n",
              "5610  '나는 고발한다' 필진이 자신의 칼럼에 달린 댓글을 직접 읽고 생각을 나누는 콘텐트...   \n",
              "\n",
              "                                                    URL 분석제외 여부  \n",
              "0           https://www.joongang.co.kr/article/25149213     NaN  \n",
              "1     http://www.hani.co.kr/arti/international/ameri...     NaN  \n",
              "2     https://www.donga.com/news/Inter/article/all/2...     NaN  \n",
              "3     https://www.khan.co.kr/economy/economy-general...     NaN  \n",
              "4     http://www.seoul.co.kr/news/newsView.php?id=20...     NaN  \n",
              "...                                                 ...     ...  \n",
              "5606  http://www.segye.com/content/html/2022/03/21/2...     NaN  \n",
              "5607  http://www.segye.com/content/html/2022/03/21/2...     NaN  \n",
              "5608        https://www.joongang.co.kr/article/25057201      예외  \n",
              "5609        https://www.joongang.co.kr/article/25057183     NaN  \n",
              "5610        https://www.joongang.co.kr/article/25057108     NaN  \n",
              "\n",
              "[5611 rows x 19 columns]"
            ],
            "text/html": [
              "\n",
              "  <div id=\"df-c1f64e92-f2cf-48db-afaa-d6a6bbdd1309\" class=\"colab-df-container\">\n",
              "    <div>\n",
              "<style scoped>\n",
              "    .dataframe tbody tr th:only-of-type {\n",
              "        vertical-align: middle;\n",
              "    }\n",
              "\n",
              "    .dataframe tbody tr th {\n",
              "        vertical-align: top;\n",
              "    }\n",
              "\n",
              "    .dataframe thead th {\n",
              "        text-align: right;\n",
              "    }\n",
              "</style>\n",
              "<table border=\"1\" class=\"dataframe\">\n",
              "  <thead>\n",
              "    <tr style=\"text-align: right;\">\n",
              "      <th></th>\n",
              "      <th>뉴스 식별자</th>\n",
              "      <th>일자</th>\n",
              "      <th>언론사</th>\n",
              "      <th>기고자</th>\n",
              "      <th>제목</th>\n",
              "      <th>통합 분류1</th>\n",
              "      <th>통합 분류2</th>\n",
              "      <th>통합 분류3</th>\n",
              "      <th>사건/사고 분류1</th>\n",
              "      <th>사건/사고 분류2</th>\n",
              "      <th>사건/사고 분류3</th>\n",
              "      <th>인물</th>\n",
              "      <th>위치</th>\n",
              "      <th>기관</th>\n",
              "      <th>키워드</th>\n",
              "      <th>특성추출(가중치순 상위 50개)</th>\n",
              "      <th>본문</th>\n",
              "      <th>URL</th>\n",
              "      <th>분석제외 여부</th>\n",
              "    </tr>\n",
              "  </thead>\n",
              "  <tbody>\n",
              "    <tr>\n",
              "      <th>0</th>\n",
              "      <td>1.100901e+06</td>\n",
              "      <td>20230322</td>\n",
              "      <td>중앙일보</td>\n",
              "      <td>이보람(lee.boram2@joongang.co.kr)</td>\n",
              "      <td>트럼프, 주황 죄수복 입고 바닥 청소 이 사진 정체 알고보니</td>\n",
              "      <td>국제&gt;미국_북미</td>\n",
              "      <td>국제&gt;유럽_EU</td>\n",
              "      <td>국제&gt;중남미</td>\n",
              "      <td>NaN</td>\n",
              "      <td>NaN</td>\n",
              "      <td>NaN</td>\n",
              "      <td>트럼프,도널드 트럼프,엘리엇</td>\n",
              "      <td>미국,맨해튼,뉴욕</td>\n",
              "      <td>AP통신,히긴스,맨해튼지검,트위터</td>\n",
              "      <td>트럼프,주황,죄수복,바닥,청소,사진,정체,도널드,트럼프,미국,대통령,당국,체포,가능...</td>\n",
              "      <td>뉴욕,경찰관,미국,트위,창립자,주황색,엘리엇,가능성,미드저니,인공지능,사진들,합의금...</td>\n",
              "      <td>도널드 트럼프 전 미국 대통령이 최근 당국에 체포될 가능성이 있다고 주장하는 가운데...</td>\n",
              "      <td>https://www.joongang.co.kr/article/25149213</td>\n",
              "      <td>NaN</td>\n",
              "    </tr>\n",
              "    <tr>\n",
              "      <th>1</th>\n",
              "      <td>1.101001e+06</td>\n",
              "      <td>20230322</td>\n",
              "      <td>한겨레</td>\n",
              "      <td>박병수 기자</td>\n",
              "      <td>트럼프 체포됐다고? AI로 만든 가짜 사진 퍼지며 논란</td>\n",
              "      <td>국제&gt;미국_북미</td>\n",
              "      <td>국제&gt;유럽_EU</td>\n",
              "      <td>국제&gt;중남미</td>\n",
              "      <td>NaN</td>\n",
              "      <td>NaN</td>\n",
              "      <td>NaN</td>\n",
              "      <td>트럼프,도널드 트럼프,엘리엇</td>\n",
              "      <td>미국,회계,맨해튼,뉴욕</td>\n",
              "      <td>히긴스,맨해튼지검,트위터</td>\n",
              "      <td>트럼프,체포,AI,가짜,사진,논란,도널드,트럼프,미국,대통령,수갑,연행,가짜,사진,...</td>\n",
              "      <td>벨링캣,미드저니,인공지능,엘리엇,창립자,소셜미디어,맨해튼지검,뉴욕,현지시각,회계조작...</td>\n",
              "      <td>도널드 트럼프 전 미국 대통령이 수갑을 차고 연행되는 ‘가짜 사진’이 온라인을 통해...</td>\n",
              "      <td>http://www.hani.co.kr/arti/international/ameri...</td>\n",
              "      <td>NaN</td>\n",
              "    </tr>\n",
              "    <tr>\n",
              "      <th>2</th>\n",
              "      <td>1.100401e+06</td>\n",
              "      <td>20230322</td>\n",
              "      <td>동아일보</td>\n",
              "      <td>박태근</td>\n",
              "      <td>트럼프가 체포됐다? “다리가 이상해” AI 가짜 이미지에 ‘깜빡’</td>\n",
              "      <td>국제&gt;미국_북미</td>\n",
              "      <td>국제&gt;중남미</td>\n",
              "      <td>국제&gt;일본</td>\n",
              "      <td>사회&gt;사회갈등&gt;반란_혁명_폭동</td>\n",
              "      <td>NaN</td>\n",
              "      <td>NaN</td>\n",
              "      <td>트럼프,도널드 트럼프</td>\n",
              "      <td>미국,맨해튼,뉴욕</td>\n",
              "      <td>벨링캣,AP통신,영국,검찰,히긴스,백악관,트위터</td>\n",
              "      <td>트럼프,체포,다리,AI,가짜,이미지,입막음,혐의,기소,위기,도널드,트럼프,미국,대통...</td>\n",
              "      <td>ai,온라인,하긴스,뉴욕,기밀문서,백악관,사람들,입막음,뉴스영상,지지층,합의금,황금...</td>\n",
              "      <td>‘성추문 입막음’ 등의 혐의로 기소 위기에 놓인 도널드 트럼프 전 미국 대통령이 경...</td>\n",
              "      <td>https://www.donga.com/news/Inter/article/all/2...</td>\n",
              "      <td>NaN</td>\n",
              "    </tr>\n",
              "    <tr>\n",
              "      <th>3</th>\n",
              "      <td>1.100101e+06</td>\n",
              "      <td>20230322</td>\n",
              "      <td>경향신문</td>\n",
              "      <td>김은성 기자 kes@kyunghyang.com</td>\n",
              "      <td>‘선허용 후규제’ AI법 논란  시민단체 “사회 경제 손실 초래”</td>\n",
              "      <td>경제&gt;경제일반</td>\n",
              "      <td>NaN</td>\n",
              "      <td>NaN</td>\n",
              "      <td>범죄&gt;기업범죄&gt;거래제한</td>\n",
              "      <td>NaN</td>\n",
              "      <td>NaN</td>\n",
              "      <td>김병욱,빌 게이츠</td>\n",
              "      <td>주문도,미국</td>\n",
              "      <td>과학기술정보방송통신위원회,민주사회를위한변호사모임,MS,공익법센터,국회,법제사법위원회...</td>\n",
              "      <td>AI,논란,시민단체,사회,경제,손실,초래,정보,인권관련,시민단체들,상정,국회,본회의...</td>\n",
              "      <td>인공지능,ai,과방위,변호사,과기부,위원회,진보네트워크센터,희우,유럽연합,민변,기본...</td>\n",
              "      <td>정보 인권관련 시민단체들이 국회 본회의 상정을 앞두고 있는 ‘인공지능산업 육성 및 ...</td>\n",
              "      <td>https://www.khan.co.kr/economy/economy-general...</td>\n",
              "      <td>NaN</td>\n",
              "    </tr>\n",
              "    <tr>\n",
              "      <th>4</th>\n",
              "      <td>1.100611e+06</td>\n",
              "      <td>20230322</td>\n",
              "      <td>서울신문</td>\n",
              "      <td>이상훈</td>\n",
              "      <td>비브스튜디오스, 몬스터유니온과 드라마 공동제작 MOU 체결</td>\n",
              "      <td>IT_과학&gt;콘텐츠</td>\n",
              "      <td>IT_과학&gt;모바일</td>\n",
              "      <td>NaN</td>\n",
              "      <td>NaN</td>\n",
              "      <td>NaN</td>\n",
              "      <td>NaN</td>\n",
              "      <td>김형준,버추,김세규</td>\n",
              "      <td>곤지암,독창</td>\n",
              "      <td>버츄얼,비브스튜디오스,K-,CGI,imm,하이브,메타,몬스터유니온,KBS,KBS대하드라</td>\n",
              "      <td>비브스튜디오스,몬스터유니온,드라마,공동,제작,MOU,체결,고려거란전쟁,KBS,대하사...</td>\n",
              "      <td>비브스튜디오스,몬스터유니온,ai,스튜디오스,거란,공동제작,대하드라마,kbs,김세규,...</td>\n",
              "      <td>KBS 대하사극 ‘고려거란전쟁’ 비롯, 신규 콘텐츠 공동기획 및 제작 등 협력키로 ...</td>\n",
              "      <td>http://www.seoul.co.kr/news/newsView.php?id=20...</td>\n",
              "      <td>NaN</td>\n",
              "    </tr>\n",
              "    <tr>\n",
              "      <th>...</th>\n",
              "      <td>...</td>\n",
              "      <td>...</td>\n",
              "      <td>...</td>\n",
              "      <td>...</td>\n",
              "      <td>...</td>\n",
              "      <td>...</td>\n",
              "      <td>...</td>\n",
              "      <td>...</td>\n",
              "      <td>...</td>\n",
              "      <td>...</td>\n",
              "      <td>...</td>\n",
              "      <td>...</td>\n",
              "      <td>...</td>\n",
              "      <td>...</td>\n",
              "      <td>...</td>\n",
              "      <td>...</td>\n",
              "      <td>...</td>\n",
              "      <td>...</td>\n",
              "      <td>...</td>\n",
              "    </tr>\n",
              "    <tr>\n",
              "      <th>5606</th>\n",
              "      <td>1.100701e+06</td>\n",
              "      <td>20220322</td>\n",
              "      <td>세계일보</td>\n",
              "      <td>오상도</td>\n",
              "      <td>경기도정 ‘디지털 전환’ 청사진 제시</td>\n",
              "      <td>지역&gt;경기</td>\n",
              "      <td>IT_과학&gt;콘텐츠</td>\n",
              "      <td>IT_과학&gt;모바일</td>\n",
              "      <td>사고&gt;스포츠사고</td>\n",
              "      <td>NaN</td>\n",
              "      <td>NaN</td>\n",
              "      <td>NaN</td>\n",
              "      <td>경기,행정시,경기도</td>\n",
              "      <td>애플,메타,경기도정,경기도,정보화위원회</td>\n",
              "      <td>전환,경기도정,디지털,청사진,제시,경기도,인공지능,활용,민원,서식,자동,작성,실물,...</td>\n",
              "      <td>경기도,행정서비스,정보화,체험존,신분증,시니어,류인권,시군,민원인,책임관,인공지능</td>\n",
              "      <td>앞으로 경기도에선 인공지능을 활용해 민원 서식을 자동으로 작성하거나 실물 신분증 대...</td>\n",
              "      <td>http://www.segye.com/content/html/2022/03/21/2...</td>\n",
              "      <td>NaN</td>\n",
              "    </tr>\n",
              "    <tr>\n",
              "      <th>5607</th>\n",
              "      <td>1.100701e+06</td>\n",
              "      <td>20220322</td>\n",
              "      <td>세계일보</td>\n",
              "      <td>이보람</td>\n",
              "      <td>AI 횡단보도가 휠체어 감지해 보행신호 연장</td>\n",
              "      <td>지역&gt;울산</td>\n",
              "      <td>지역&gt;경기</td>\n",
              "      <td>지역&gt;강원</td>\n",
              "      <td>NaN</td>\n",
              "      <td>NaN</td>\n",
              "      <td>NaN</td>\n",
              "      <td>NaN</td>\n",
              "      <td>남구,울산시</td>\n",
              "      <td>교통안전공단,울산시,울산시청</td>\n",
              "      <td>AI,횡단보도,휠체어,감지,보행,신호,연장,울산시청,횡단보도,울산시,남구,울산시청,...</td>\n",
              "      <td>횡단보도,보행자,울산시,보행신호,교통약자,전광판,경광등,차량들,신호등,사업비,차세대...</td>\n",
              "      <td>울산시 남구 울산시청 앞 횡단보도. 보행자 신호가 3초 남았을 때 한 시민이 횡단보...</td>\n",
              "      <td>http://www.segye.com/content/html/2022/03/21/2...</td>\n",
              "      <td>NaN</td>\n",
              "    </tr>\n",
              "    <tr>\n",
              "      <th>5608</th>\n",
              "      <td>1.100901e+06</td>\n",
              "      <td>20220322</td>\n",
              "      <td>중앙일보</td>\n",
              "      <td>NaN</td>\n",
              "      <td>[삶의 향기] ‘쓰봉’과 ‘우와기’ 기억하시나요</td>\n",
              "      <td>문화&gt;출판</td>\n",
              "      <td>문화&gt;방송_연예</td>\n",
              "      <td>문화&gt;음악</td>\n",
              "      <td>NaN</td>\n",
              "      <td>NaN</td>\n",
              "      <td>NaN</td>\n",
              "      <td>NaN</td>\n",
              "      <td>우와기,일본,지구,옥도,한국,오봉</td>\n",
              "      <td>일화,쓰봉,K팝,독어독문학과,동서양,장단,성균관대</td>\n",
              "      <td>쓰봉,우와기,기억,우연,기회,친근감,휴게소,맥반석,오징어,이야기,우와기,소리,한참,...</td>\n",
              "      <td>우리말,일본어,우와기,쓰봉,사자성어,성균관대,최명원,form,정체성,혼종,일본식,친...</td>\n",
              "      <td>우연한 기회에 차로 두어 시간을 가야 하는 곳에서 낯선, 그러나 곧 친근감을 갖게 ...</td>\n",
              "      <td>https://www.joongang.co.kr/article/25057201</td>\n",
              "      <td>예외</td>\n",
              "    </tr>\n",
              "    <tr>\n",
              "      <th>5609</th>\n",
              "      <td>1.100901e+06</td>\n",
              "      <td>20220322</td>\n",
              "      <td>중앙일보</td>\n",
              "      <td>김승수</td>\n",
              "      <td>[라이프 트렌드&amp;] “신제품을 얻은 듯 만족”   쓸수록 진화하는 ‘UP가전’</td>\n",
              "      <td>IT_과학&gt;모바일</td>\n",
              "      <td>IT_과학&gt;콘텐츠</td>\n",
              "      <td>IT_과학&gt;보안</td>\n",
              "      <td>NaN</td>\n",
              "      <td>NaN</td>\n",
              "      <td>NaN</td>\n",
              "      <td>류재철,김모</td>\n",
              "      <td>에어로타워,서울,하도,하길,마포구</td>\n",
              "      <td>H&amp;A사업본부,H&amp;A인공지능CX팀,ThinQ,LG전자,UP,LG</td>\n",
              "      <td>신제품,만족,진화,UP가전,LG전자,사용자,라이프,스타일,UP가전,개인화,경험,선사...</td>\n",
              "      <td>lg,up가전,사용자,오브제컬렉션,lg전자,신제품,김용준,개인화,류재철,디오스,빅데이터</td>\n",
              "      <td>LG전자, 사용자 라이프스타일에 맞춘 ‘UP가전’으로 초 개인화된 경험 선사\\n \\...</td>\n",
              "      <td>https://www.joongang.co.kr/article/25057183</td>\n",
              "      <td>NaN</td>\n",
              "    </tr>\n",
              "    <tr>\n",
              "      <th>5610</th>\n",
              "      <td>1.100901e+06</td>\n",
              "      <td>20220322</td>\n",
              "      <td>중앙일보</td>\n",
              "      <td>박한슬(c_project@joongang.co.kr)</td>\n",
              "      <td>공무원 추첨제 꺼낸 약사 출신, '약사도 추첨제 하셈' 지적에 [박한슬의 댓글 읽어...</td>\n",
              "      <td>사회&gt;교육_시험</td>\n",
              "      <td>사회&gt;여성</td>\n",
              "      <td>NaN</td>\n",
              "      <td>NaN</td>\n",
              "      <td>NaN</td>\n",
              "      <td>NaN</td>\n",
              "      <td>박,김경율,박한슬,문제일</td>\n",
              "      <td>회계,무의,가산,네덜란드,하단,저도</td>\n",
              "      <td>공무원,정부,알바생,PI,필진,공무원시험</td>\n",
              "      <td>공무,추첨,약사,출신,약사,추첨,하셈,지적,박한슬,댓글,고발,필진,자신,칼럼,댓글,...</td>\n",
              "      <td>공무원,추첨제,사람들,박한슬,우리나라,공무원시험,일들,분들,wkdt,원픽,합격자,합...</td>\n",
              "      <td>'나는 고발한다' 필진이 자신의 칼럼에 달린 댓글을 직접 읽고 생각을 나누는 콘텐트...</td>\n",
              "      <td>https://www.joongang.co.kr/article/25057108</td>\n",
              "      <td>NaN</td>\n",
              "    </tr>\n",
              "  </tbody>\n",
              "</table>\n",
              "<p>5611 rows × 19 columns</p>\n",
              "</div>\n",
              "    <div class=\"colab-df-buttons\">\n",
              "\n",
              "  <div class=\"colab-df-container\">\n",
              "    <button class=\"colab-df-convert\" onclick=\"convertToInteractive('df-c1f64e92-f2cf-48db-afaa-d6a6bbdd1309')\"\n",
              "            title=\"Convert this dataframe to an interactive table.\"\n",
              "            style=\"display:none;\">\n",
              "\n",
              "  <svg xmlns=\"http://www.w3.org/2000/svg\" height=\"24px\" viewBox=\"0 -960 960 960\">\n",
              "    <path d=\"M120-120v-720h720v720H120Zm60-500h600v-160H180v160Zm220 220h160v-160H400v160Zm0 220h160v-160H400v160ZM180-400h160v-160H180v160Zm440 0h160v-160H620v160ZM180-180h160v-160H180v160Zm440 0h160v-160H620v160Z\"/>\n",
              "  </svg>\n",
              "    </button>\n",
              "\n",
              "  <style>\n",
              "    .colab-df-container {\n",
              "      display:flex;\n",
              "      gap: 12px;\n",
              "    }\n",
              "\n",
              "    .colab-df-convert {\n",
              "      background-color: #E8F0FE;\n",
              "      border: none;\n",
              "      border-radius: 50%;\n",
              "      cursor: pointer;\n",
              "      display: none;\n",
              "      fill: #1967D2;\n",
              "      height: 32px;\n",
              "      padding: 0 0 0 0;\n",
              "      width: 32px;\n",
              "    }\n",
              "\n",
              "    .colab-df-convert:hover {\n",
              "      background-color: #E2EBFA;\n",
              "      box-shadow: 0px 1px 2px rgba(60, 64, 67, 0.3), 0px 1px 3px 1px rgba(60, 64, 67, 0.15);\n",
              "      fill: #174EA6;\n",
              "    }\n",
              "\n",
              "    .colab-df-buttons div {\n",
              "      margin-bottom: 4px;\n",
              "    }\n",
              "\n",
              "    [theme=dark] .colab-df-convert {\n",
              "      background-color: #3B4455;\n",
              "      fill: #D2E3FC;\n",
              "    }\n",
              "\n",
              "    [theme=dark] .colab-df-convert:hover {\n",
              "      background-color: #434B5C;\n",
              "      box-shadow: 0px 1px 3px 1px rgba(0, 0, 0, 0.15);\n",
              "      filter: drop-shadow(0px 1px 2px rgba(0, 0, 0, 0.3));\n",
              "      fill: #FFFFFF;\n",
              "    }\n",
              "  </style>\n",
              "\n",
              "    <script>\n",
              "      const buttonEl =\n",
              "        document.querySelector('#df-c1f64e92-f2cf-48db-afaa-d6a6bbdd1309 button.colab-df-convert');\n",
              "      buttonEl.style.display =\n",
              "        google.colab.kernel.accessAllowed ? 'block' : 'none';\n",
              "\n",
              "      async function convertToInteractive(key) {\n",
              "        const element = document.querySelector('#df-c1f64e92-f2cf-48db-afaa-d6a6bbdd1309');\n",
              "        const dataTable =\n",
              "          await google.colab.kernel.invokeFunction('convertToInteractive',\n",
              "                                                    [key], {});\n",
              "        if (!dataTable) return;\n",
              "\n",
              "        const docLinkHtml = 'Like what you see? Visit the ' +\n",
              "          '<a target=\"_blank\" href=https://colab.research.google.com/notebooks/data_table.ipynb>data table notebook</a>'\n",
              "          + ' to learn more about interactive tables.';\n",
              "        element.innerHTML = '';\n",
              "        dataTable['output_type'] = 'display_data';\n",
              "        await google.colab.output.renderOutput(dataTable, element);\n",
              "        const docLink = document.createElement('div');\n",
              "        docLink.innerHTML = docLinkHtml;\n",
              "        element.appendChild(docLink);\n",
              "      }\n",
              "    </script>\n",
              "  </div>\n",
              "\n",
              "\n",
              "<div id=\"df-921ed6c4-1631-462e-9df3-615050bb3063\">\n",
              "  <button class=\"colab-df-quickchart\" onclick=\"quickchart('df-921ed6c4-1631-462e-9df3-615050bb3063')\"\n",
              "            title=\"Suggest charts\"\n",
              "            style=\"display:none;\">\n",
              "\n",
              "<svg xmlns=\"http://www.w3.org/2000/svg\" height=\"24px\"viewBox=\"0 0 24 24\"\n",
              "     width=\"24px\">\n",
              "    <g>\n",
              "        <path d=\"M19 3H5c-1.1 0-2 .9-2 2v14c0 1.1.9 2 2 2h14c1.1 0 2-.9 2-2V5c0-1.1-.9-2-2-2zM9 17H7v-7h2v7zm4 0h-2V7h2v10zm4 0h-2v-4h2v4z\"/>\n",
              "    </g>\n",
              "</svg>\n",
              "  </button>\n",
              "\n",
              "<style>\n",
              "  .colab-df-quickchart {\n",
              "      --bg-color: #E8F0FE;\n",
              "      --fill-color: #1967D2;\n",
              "      --hover-bg-color: #E2EBFA;\n",
              "      --hover-fill-color: #174EA6;\n",
              "      --disabled-fill-color: #AAA;\n",
              "      --disabled-bg-color: #DDD;\n",
              "  }\n",
              "\n",
              "  [theme=dark] .colab-df-quickchart {\n",
              "      --bg-color: #3B4455;\n",
              "      --fill-color: #D2E3FC;\n",
              "      --hover-bg-color: #434B5C;\n",
              "      --hover-fill-color: #FFFFFF;\n",
              "      --disabled-bg-color: #3B4455;\n",
              "      --disabled-fill-color: #666;\n",
              "  }\n",
              "\n",
              "  .colab-df-quickchart {\n",
              "    background-color: var(--bg-color);\n",
              "    border: none;\n",
              "    border-radius: 50%;\n",
              "    cursor: pointer;\n",
              "    display: none;\n",
              "    fill: var(--fill-color);\n",
              "    height: 32px;\n",
              "    padding: 0;\n",
              "    width: 32px;\n",
              "  }\n",
              "\n",
              "  .colab-df-quickchart:hover {\n",
              "    background-color: var(--hover-bg-color);\n",
              "    box-shadow: 0 1px 2px rgba(60, 64, 67, 0.3), 0 1px 3px 1px rgba(60, 64, 67, 0.15);\n",
              "    fill: var(--button-hover-fill-color);\n",
              "  }\n",
              "\n",
              "  .colab-df-quickchart-complete:disabled,\n",
              "  .colab-df-quickchart-complete:disabled:hover {\n",
              "    background-color: var(--disabled-bg-color);\n",
              "    fill: var(--disabled-fill-color);\n",
              "    box-shadow: none;\n",
              "  }\n",
              "\n",
              "  .colab-df-spinner {\n",
              "    border: 2px solid var(--fill-color);\n",
              "    border-color: transparent;\n",
              "    border-bottom-color: var(--fill-color);\n",
              "    animation:\n",
              "      spin 1s steps(1) infinite;\n",
              "  }\n",
              "\n",
              "  @keyframes spin {\n",
              "    0% {\n",
              "      border-color: transparent;\n",
              "      border-bottom-color: var(--fill-color);\n",
              "      border-left-color: var(--fill-color);\n",
              "    }\n",
              "    20% {\n",
              "      border-color: transparent;\n",
              "      border-left-color: var(--fill-color);\n",
              "      border-top-color: var(--fill-color);\n",
              "    }\n",
              "    30% {\n",
              "      border-color: transparent;\n",
              "      border-left-color: var(--fill-color);\n",
              "      border-top-color: var(--fill-color);\n",
              "      border-right-color: var(--fill-color);\n",
              "    }\n",
              "    40% {\n",
              "      border-color: transparent;\n",
              "      border-right-color: var(--fill-color);\n",
              "      border-top-color: var(--fill-color);\n",
              "    }\n",
              "    60% {\n",
              "      border-color: transparent;\n",
              "      border-right-color: var(--fill-color);\n",
              "    }\n",
              "    80% {\n",
              "      border-color: transparent;\n",
              "      border-right-color: var(--fill-color);\n",
              "      border-bottom-color: var(--fill-color);\n",
              "    }\n",
              "    90% {\n",
              "      border-color: transparent;\n",
              "      border-bottom-color: var(--fill-color);\n",
              "    }\n",
              "  }\n",
              "</style>\n",
              "\n",
              "  <script>\n",
              "    async function quickchart(key) {\n",
              "      const quickchartButtonEl =\n",
              "        document.querySelector('#' + key + ' button');\n",
              "      quickchartButtonEl.disabled = true;  // To prevent multiple clicks.\n",
              "      quickchartButtonEl.classList.add('colab-df-spinner');\n",
              "      try {\n",
              "        const charts = await google.colab.kernel.invokeFunction(\n",
              "            'suggestCharts', [key], {});\n",
              "      } catch (error) {\n",
              "        console.error('Error during call to suggestCharts:', error);\n",
              "      }\n",
              "      quickchartButtonEl.classList.remove('colab-df-spinner');\n",
              "      quickchartButtonEl.classList.add('colab-df-quickchart-complete');\n",
              "    }\n",
              "    (() => {\n",
              "      let quickchartButtonEl =\n",
              "        document.querySelector('#df-921ed6c4-1631-462e-9df3-615050bb3063 button');\n",
              "      quickchartButtonEl.style.display =\n",
              "        google.colab.kernel.accessAllowed ? 'block' : 'none';\n",
              "    })();\n",
              "  </script>\n",
              "</div>\n",
              "\n",
              "  <div id=\"id_5d2b0994-9280-4ee7-9c78-60f34dd1ccbc\">\n",
              "    <style>\n",
              "      .colab-df-generate {\n",
              "        background-color: #E8F0FE;\n",
              "        border: none;\n",
              "        border-radius: 50%;\n",
              "        cursor: pointer;\n",
              "        display: none;\n",
              "        fill: #1967D2;\n",
              "        height: 32px;\n",
              "        padding: 0 0 0 0;\n",
              "        width: 32px;\n",
              "      }\n",
              "\n",
              "      .colab-df-generate:hover {\n",
              "        background-color: #E2EBFA;\n",
              "        box-shadow: 0px 1px 2px rgba(60, 64, 67, 0.3), 0px 1px 3px 1px rgba(60, 64, 67, 0.15);\n",
              "        fill: #174EA6;\n",
              "      }\n",
              "\n",
              "      [theme=dark] .colab-df-generate {\n",
              "        background-color: #3B4455;\n",
              "        fill: #D2E3FC;\n",
              "      }\n",
              "\n",
              "      [theme=dark] .colab-df-generate:hover {\n",
              "        background-color: #434B5C;\n",
              "        box-shadow: 0px 1px 3px 1px rgba(0, 0, 0, 0.15);\n",
              "        filter: drop-shadow(0px 1px 2px rgba(0, 0, 0, 0.3));\n",
              "        fill: #FFFFFF;\n",
              "      }\n",
              "    </style>\n",
              "    <button class=\"colab-df-generate\" onclick=\"generateWithVariable('df')\"\n",
              "            title=\"Generate code using this dataframe.\"\n",
              "            style=\"display:none;\">\n",
              "\n",
              "  <svg xmlns=\"http://www.w3.org/2000/svg\" height=\"24px\"viewBox=\"0 0 24 24\"\n",
              "       width=\"24px\">\n",
              "    <path d=\"M7,19H8.4L18.45,9,17,7.55,7,17.6ZM5,21V16.75L18.45,3.32a2,2,0,0,1,2.83,0l1.4,1.43a1.91,1.91,0,0,1,.58,1.4,1.91,1.91,0,0,1-.58,1.4L9.25,21ZM18.45,9,17,7.55Zm-12,3A5.31,5.31,0,0,0,4.9,8.1,5.31,5.31,0,0,0,1,6.5,5.31,5.31,0,0,0,4.9,4.9,5.31,5.31,0,0,0,6.5,1,5.31,5.31,0,0,0,8.1,4.9,5.31,5.31,0,0,0,12,6.5,5.46,5.46,0,0,0,6.5,12Z\"/>\n",
              "  </svg>\n",
              "    </button>\n",
              "    <script>\n",
              "      (() => {\n",
              "      const buttonEl =\n",
              "        document.querySelector('#id_5d2b0994-9280-4ee7-9c78-60f34dd1ccbc button.colab-df-generate');\n",
              "      buttonEl.style.display =\n",
              "        google.colab.kernel.accessAllowed ? 'block' : 'none';\n",
              "\n",
              "      buttonEl.onclick = () => {\n",
              "        google.colab.notebook.generateWithVariable('df');\n",
              "      }\n",
              "      })();\n",
              "    </script>\n",
              "  </div>\n",
              "\n",
              "    </div>\n",
              "  </div>\n"
            ],
            "application/vnd.google.colaboratory.intrinsic+json": {
              "type": "dataframe",
              "variable_name": "df",
              "summary": "{\n  \"name\": \"df\",\n  \"rows\": 5611,\n  \"fields\": [\n    {\n      \"column\": \"\\ub274\\uc2a4 \\uc2dd\\ubcc4\\uc790\",\n      \"properties\": {\n        \"dtype\": \"number\",\n        \"std\": 319.5463405779515,\n        \"min\": 1100101.20220324,\n        \"max\": 1101101.202303211,\n        \"num_unique_values\": 3705,\n        \"samples\": [\n          1100611.202204041,\n          1100301.202212201,\n          1100301.202209131\n        ],\n        \"semantic_type\": \"\",\n        \"description\": \"\"\n      }\n    },\n    {\n      \"column\": \"\\uc77c\\uc790\",\n      \"properties\": {\n        \"dtype\": \"number\",\n        \"std\": 4226,\n        \"min\": 20220322,\n        \"max\": 20230322,\n        \"num_unique_values\": 366,\n        \"samples\": [\n          20220910,\n          20230217,\n          20230307\n        ],\n        \"semantic_type\": \"\",\n        \"description\": \"\"\n      }\n    },\n    {\n      \"column\": \"\\uc5b8\\ub860\\uc0ac\",\n      \"properties\": {\n        \"dtype\": \"category\",\n        \"num_unique_values\": 11,\n        \"samples\": [\n          \"\\uc138\\uacc4\\uc77c\\ubcf4\",\n          \"\\uc911\\uc559\\uc77c\\ubcf4\",\n          \"\\ud55c\\uad6d\\uc77c\\ubcf4\"\n        ],\n        \"semantic_type\": \"\",\n        \"description\": \"\"\n      }\n    },\n    {\n      \"column\": \"\\uae30\\uace0\\uc790\",\n      \"properties\": {\n        \"dtype\": \"category\",\n        \"num_unique_values\": 1221,\n        \"samples\": [\n          \"\\ub3d9\\uad11\\ucd08\\uad50 \\uc81c\\uacf5\",\n          \"\\ud669\\ud61c\\uc9c4\",\n          \"\\uc774\\ub3c4\\uacbd\"\n        ],\n        \"semantic_type\": \"\",\n        \"description\": \"\"\n      }\n    },\n    {\n      \"column\": \"\\uc81c\\ubaa9\",\n      \"properties\": {\n        \"dtype\": \"string\",\n        \"num_unique_values\": 5583,\n        \"samples\": [\n          \"\\ucc28\\ub7c9 \\uc2a4\\uc2a4\\ub85c \\uc8fc\\ucc28\\uae4c\\uc9c0 \\uc138\\uc885\\uc2dc \\uc790\\uc728\\uc8fc\\ucc28 \\uc2e4\\uc99d \\ub098\\uc120\\ub2e4\",\n          \"\\uc774\\uc131\\ud76c \\ub18d\\ud611\\uc911\\uc559\\ud68c\\uc7a5, \\uc81c\\uc8fc \\uc9c0\\uc5ed \\ub514\\uc9c0\\ud138\\ub18d\\uc5c5 \\ud604\\uc7a5 \\ubc29\\ubb38\",\n          \"\\u201cPPT \\ub9cc\\ub4e4\\uc5b4\\uc918\\u201d \\uba87 \\ucd08\\ub9cc\\uc5d0 \\ub69d\\ub531 MS, \\uc6cc\\ub4dc \\uc5d1\\uc140\\uc5d0\\ub3c4 AI \\ud0d1\\uc7ac\"\n        ],\n        \"semantic_type\": \"\",\n        \"description\": \"\"\n      }\n    },\n    {\n      \"column\": \"\\ud1b5\\ud569 \\ubd84\\ub9581\",\n      \"properties\": {\n        \"dtype\": \"category\",\n        \"num_unique_values\": 81,\n        \"samples\": [\n          \"\\uc9c0\\uc5ed>\\ucda9\\ub0a8\",\n          \"\\uad6d\\uc81c>\\ubbf8\\uad6d_\\ubd81\\ubbf8\",\n          \"\\ubb38\\ud654>\\ubb38\\ud654\\uc77c\\ubc18\"\n        ],\n        \"semantic_type\": \"\",\n        \"description\": \"\"\n      }\n    },\n    {\n      \"column\": \"\\ud1b5\\ud569 \\ubd84\\ub9582\",\n      \"properties\": {\n        \"dtype\": \"category\",\n        \"num_unique_values\": 82,\n        \"samples\": [\n          \" \\uc9c0\\uc5ed>\\uad11\\uc8fc\",\n          \" \\uad6d\\uc81c>\\uc720\\ub7fd_EU\",\n          \" \\uad6d\\uc81c>\\ub7ec\\uc2dc\\uc544\"\n        ],\n        \"semantic_type\": \"\",\n        \"description\": \"\"\n      }\n    },\n    {\n      \"column\": \"\\ud1b5\\ud569 \\ubd84\\ub9583\",\n      \"properties\": {\n        \"dtype\": \"category\",\n        \"num_unique_values\": 78,\n        \"samples\": [\n          \" \\uc9c0\\uc5ed>\\ubd80\\uc0b0\",\n          \" \\uad6d\\uc81c>\\uc911\\ub0a8\\ubbf8\",\n          \" \\uacbd\\uc81c>\\uacbd\\uc81c\\uc77c\\ubc18\"\n        ],\n        \"semantic_type\": \"\",\n        \"description\": \"\"\n      }\n    },\n    {\n      \"column\": \"\\uc0ac\\uac74/\\uc0ac\\uace0 \\ubd84\\ub9581\",\n      \"properties\": {\n        \"dtype\": \"category\",\n        \"num_unique_values\": 45,\n        \"samples\": [\n          \"\\uc0ac\\uace0>\\uad50\\ud1b5\\uc0ac\\uace0>\\ucca0\\ub3c4\\uc0ac\\uace0\",\n          \"\\ubc94\\uc8c4>\\ubc94\\uc8c4\\uc77c\\ubc18>\\ub9c8\\uc57d\",\n          \"\\ubc94\\uc8c4>\\uc815\\uce58>\\ub1cc\\ubb3c\\uc218\\uc218\"\n        ],\n        \"semantic_type\": \"\",\n        \"description\": \"\"\n      }\n    },\n    {\n      \"column\": \"\\uc0ac\\uac74/\\uc0ac\\uace0 \\ubd84\\ub9582\",\n      \"properties\": {\n        \"dtype\": \"category\",\n        \"num_unique_values\": 33,\n        \"samples\": [\n          \" \\uc0ac\\ud68c>\\uc0ac\\ud68c\\uac08\\ub4f1>\\ud14c\\ub7ec\\ud589\\uc704\",\n          \" \\uc0ac\\uace0>\\uad50\\ud1b5\\uc0ac\\uace0>\\ucca0\\ub3c4\\uc0ac\\uace0\",\n          \" \\uc0ac\\uace0>\\uad50\\ud1b5\\uc0ac\\uace0>\\ub178\\uc0c1\\uc0ac\\uace0\"\n        ],\n        \"semantic_type\": \"\",\n        \"description\": \"\"\n      }\n    },\n    {\n      \"column\": \"\\uc0ac\\uac74/\\uc0ac\\uace0 \\ubd84\\ub9583\",\n      \"properties\": {\n        \"dtype\": \"category\",\n        \"num_unique_values\": 20,\n        \"samples\": [\n          \" \\uc0ac\\ud68c>\\uc0ac\\ud68c\\ubb38\\uc81c>\\uc131\\ucc28\\ubcc4\",\n          \" \\uc7ac\\ud574>\\uc790\\uc5f0\\uc7ac\\ud574>\\ud0dc\\ud48d\",\n          \" \\uc7ac\\ud574>\\uc790\\uc5f0\\uc7ac\\ud574>\\ud64d\\uc218\"\n        ],\n        \"semantic_type\": \"\",\n        \"description\": \"\"\n      }\n    },\n    {\n      \"column\": \"\\uc778\\ubb3c\",\n      \"properties\": {\n        \"dtype\": \"string\",\n        \"num_unique_values\": 3167,\n        \"samples\": [\n          \"\\uc724\\uacbd\\uc6a9\",\n          \"\\uc724\\ubbfc\\uc601\",\n          \"\\uc774\\ub3d9\\ud6c8,\\ubc15\\uc885\\uc5f4\"\n        ],\n        \"semantic_type\": \"\",\n        \"description\": \"\"\n      }\n    },\n    {\n      \"column\": \"\\uc704\\uce58\",\n      \"properties\": {\n        \"dtype\": \"string\",\n        \"num_unique_values\": 4258,\n        \"samples\": [\n          \"\\uc77c\\ud574,\\uc77c\\ubcf8,\\uc601\\uad6d,\\ucf69\\ucfe0\\ub974,\\ud2b8\\ub77c\",\n          \"\\uc801\\ub098\\ub77c,\\uace0\\uc131\",\n          \"\\uc2e4\\ub9ac\\ucf58\\ubc38\\ub9ac,\\ud55c\\uac15,\\uc11c\\uc6b8,\\uc6a9\\uc0b0\\uacf5\\uc6d0,\\uc5c5\\ubb34\\uc9c0\\uad6c,\\ub9c8\\ucc9c\\ub8e8,\\uc6a9\\uc0b0\\uc5ed,\\ubb34\\uc0b0,\\uc11c\\uc6b8\\uc2dc,\\ub86f\\ub370\\ud0c0\\uc6cc,\\uc6a9\\uc0b0\"\n        ],\n        \"semantic_type\": \"\",\n        \"description\": \"\"\n      }\n    },\n    {\n      \"column\": \"\\uae30\\uad00\",\n      \"properties\": {\n        \"dtype\": \"string\",\n        \"num_unique_values\": 4767,\n        \"samples\": [\n          \"\\ud654\\ub791\\ud611\\ud68c-,\\uc138\\ubbf8\\ub098,IPS\\ubca4\\ucc98\\uc2a4,\\uc544\\uc6c3\\ud54f\\ub7a9,\\uba54\\ud0c0,\\ud654\\ub791\\ud611\\ud68c-KIST,KIST,\\ud55c\\uad6d\\ud654\\ub791\\ud611\\ud68c,\\ud55c\\uc591\\ub300\\uae30\\uc220\\uc9c0\\uc8fc,\\uc591\\ud574\\uac01,\\uc2a4\\ud0c0\\uc77c\\ub808\\uc2dc\\ud53c\",\n          \"\\ud55c\\ud654,MOU,\\ube44\\uc804\\ub125\\uc2a4\\ud2b8,SoC,\\ud55c\\ud654\\ud14c\\ud06c\\uc708,LG\\uc804\\uc790,\\ud55c\\ud654\\uadf8\\ub8f9\",\n          \"\\ube44\\uc0c1\\uacbd\\uc81c\\ubbfc\\uc0dd\\ud68c\\uc758,\\uc815\\ubd80,\\ud55c\\uad6d,\\uba54\\ud0c0,\\ube44\\uc0c1\\uacbd\\uc81c\\ubbfc\\uc0dd\\ud68c,\\ub300\\ud1b5\\ub839\\uc2e4 \\ubd80\\ub300,\\uad6d\\ubbfc\\uc758\\ud798\"\n        ],\n        \"semantic_type\": \"\",\n        \"description\": \"\"\n      }\n    },\n    {\n      \"column\": \"\\ud0a4\\uc6cc\\ub4dc\",\n      \"properties\": {\n        \"dtype\": \"string\",\n        \"num_unique_values\": 5597,\n        \"samples\": [\n          \"\\uc11c\\uc6b8\\uc2dc\\ub9bd\\ub300,\\uccad\\uc18c\\ub144,\\uacfc\\ud559,\\uad50\\uc721,\\ud504\\ub85c\\uadf8\\ub7a8,\\uc885\\ub8cc,\\uc11c\\uc6b8\\uc2dc\\ub9bd\\ub300,\\ud654\\ud559,\\ubb3c\\uc9c8\\ube45\\ub370\\uc774\\ud130,\\uc13c\\ud130,\\uc13c\\ud130\\uc7a5,\\ucd5c\\uc9c4\\ud76c,\\uc9c0\\ub09c\\ub2ec,25\\uc77c,\\uccad\\uc18c\\ub144,\\ub300\\uc0c1,\\uacfc\\ud559\\uad50\\uc721,\\ud658\\uacbd,\\ubd84\\uc57c,\\uacfc\\ud559,\\uad50\\uc721,\\ud2b9\\uc131\\ud654,\\ud654\\ud559,\\ubb3c\\uc9c8\\uc548\\uc804,\\uad00\\ub9ac,\\ud2b9\\uc131,\\ub300\\ud559\\uc6d0,\\ud504\\ub85c\\uadf8\\ub7a8,\\ub3d9\\uacc4,\\uacfc\\ud559\\uc18c\\ud1b5,\\uc131\\ud669\\ub9ac,\\ud504\\ub85c\\uadf8\\ub7a8,\\uccad\\uc18c\\ub144,\\uc9c4\\ub85c\\uad50\\uc721,\\ud658\\uacbd,\\ubd84\\uc57c,\\uc9c4\\ub85c,\\uad50\\uc721,\\uc77c\\ubc18,\\ub300\\uc0c1,\\uacfc\\ud559\\uc18c\\ud1b5,\\uc2dc\\uc791,\\ud559\\uc0dd,\\uc811\\uc218,\\uae30\\uc900,\\ucc38\\uc5ec,\\ud2b9\\uc131\\ud654,\\uc11c\\uc6b8\\uc2dc\\ub9bd\\ub300,\\ud654\\ud559,\\ubb3c\\uc9c8\\uc548\\uc804,\\uad00\\ub9ac,\\ud2b9\\uc131,\\ub300\\ud559\\uc6d0,\\ub300\\ud559\\uc6d0\\uc0dd,\\ud559\\ubd80\\uc0dd,\\uac15\\uc0ac,\\uccad\\uc18c\\ub144,\\uc131\\uc778,\\ub300\\uc0c1,\\ub3c5\\uc131,\\ucd08\\ub4f1\\ud559\\uc0dd,\\ub300\\uc0c1,\\ub3c5\\uc131\\ud559,\\uc54c\\uc4f8,\\uc0dd\\ub3c5,\\uad50\\uc721,\\ud504\\ub85c\\uadf8\\ub7a8,\\uc9c4\\ud589,\\uc0dd\\ub3c52,\\ucc38\\uc5ec,\\ucd08\\ub4f1\\ud559\\uc0dd,\\ub2e8\\uc21c,\\uc774\\ub860,\\uad50\\uc721,\\uba54\\ud0c0\\ubc84\\uc2a4,\\uc774\\uc6a9,\\uac8c\\uc784,\\uc218\\uc5c5,\\ucc38\\uc5ec,\\ub3c5\\uc131,\\ucc38\\uc5ec,\\uc911\\uace0\\ub4f1\\ud559\\uc0dd,\\uc778\\uacf5\\uc9c0\\ub2a5,\\uc774\\uc6a9,\\ud654\\ud559\\ubb3c\\uc9c8,\\ub3c5\\uc131,\\uc608\\uce21,\\ud765\\ubbf8,\\uc18c\\uac10,\\ub3c5\\uc131,\\uac15\\uc0ac,\\uae40\\ub3d9\\ud604,\\ud559\\uc0dd,\\ud658\\uacbd\\uacf5\\ud559,\\uc11d\\uc0ac\\uacfc\\uc815,\\uacf5\\ubd80,\\uc9c0\\uc2dd,\\uc0ac\\ub78c\\ub4e4,\\ubcf4\\ub78c,\\uc54c\\uc4f8\\uc0dd\\ub3c52,\\uac15\\uc0ac,\\uc815\\ucc44,\\ud559\\uc0dd,\\ud658\\uacbd\\uacf5\\ud559\\ubd80,\\ud559\\ubd80\\uc0dd,\\uae30\\ud68c,\\ucd94\\ud6c4,\\ud559\\uc0dd,\\ub300\\uba74,\\uba54\\ud0c0\\ubc84\\uc2a4,\\uc18c\\uac1c,\\ud504\\ub85c\\uadf8\\ub7a8,\\uc11c\\uc6b8\\uc2dc\\ub9bd\\ub300\\ud559\\uad50,\\ud654\\ud559,\\ubb3c\\uc9c8\\ube45\\ub370\\uc774\\ud130,\\uc13c\\ud130,\\uc218\\ud589,\\ud658\\uacbd\\ubd80,\\uc8fc\\uad00,\\ud654\\ud559,\\ubb3c\\uc9c8,\\uc548\\uc804,\\uad00\\ub9ac,\\uc804\\ubb38,\\uc778\\ub825,\\uc591\\uc131,\\uc0ac\\uc5c5,\\ud654\\ud559,\\ubb3c\\uc9c8\\uc548\\uc804,\\uad00\\ub9ac,\\ud2b9\\uc131,\\ub300\\ud559\\uc6d0,\\uc9c0\\uc6d0,\\uc0ac\\uc5c5,\\ud658\\uacbd\\uc131,\\uc9c8\\ud658,\\uc608\\ubc29,\\uad00\\ub9ac,\\ud575\\uc2ec,\\uc0ac\\uc5c5,\\uc5f0\\uad6c\\uac1c\\ubc1c,\\ubd84\\uc790\\ub3c5\\uc131,\\ub124\\ud2b8\\uc6cc\\ud06c\\uae30\\ubc18,\\ud658\\uacbd\\uc131,\\uc9c8\\ud658\\uc608\\uce21,\\uc9c0\\uc6d0,\\uc9c4\\ud589\",\n          \"\\uad6c\\uad11\\ubaa8,\\uc120\\ud0dd,\\ud5c8\\ube0c,\\uae00\\ub85c\\ubc8c,AI,LG,AI,\\uc138\\uacc4,\\uac70\\uc810,\\uc13c\\ud130,AI,\\ub9ac\\uc11c\\uce58,\\uc2e0\\uc124,\\uc13c\\ud130\\uc7a5,AI\\uc11d\\ud559,\\uc774\\ud64d\\ub77d\\uc528,LG\\uc804\\uc790,\\ucca0\\uc218,\\uc2a4\\ub9c8\\ud2b8\\ud3f0,\\uc0ac\\uc5c5,\\ud0dc\\uc559\\uad11,\\uc0ac\\uc5c5,\\uc815\\ub9ac,LG\\uadf8\\ub8f9,\\uc778\\uacf5\\uc9c0\\ub2a5,AI,\\uc5f0\\uad6c\\uac1c\\ubc1c,\\ubc15\\ucc28,\\uc131\\uc7a5,\\uac00\\ub2a5,\\uc218\\uc775\\uc131,\\uc0ac\\uc5c5,\\uc2e0\\uc131\\uc7a5,\\ubd84\\uc57c,\\ud22c\\uc790,\\ud68c\\uc7a5,\\uad6c\\uad11\\ubaa8,\\uadf8\\ub8f9,\\uc120\\ud0dd,\\uc9d1\\uc911,\\uacbd\\uc601,\\ud480\\uc774,LG\\uadf8\\ub8f9,AI,\\uc5f0\\uad6c\\uc6d0,\\uc804\\ub2f4,\\uc870\\uc9c1,LG,AI,\\ubbf8\\uad6d,\\ubbf8\\uc2dc\\uac04\\uc8fc,\\uc564\\uc544\\ubc84,\\uae00\\ub85c\\ubc8c,\\uac70\\uc810,\\ub9ac\\uc11c\\uce58\\uc13c\\ud130,LG,AI,\\ub9ac\\uc11c\\uce58,\\uc13c\\ud130,\\uc2e0\\uc124,\\ubbf8\\uad6d,\\ub9ac\\uc11c\\uce58,\\uc13c\\ud130,\\uc138\\uacc4\\uc801,\\uc778\\uacf5,\\uc9c0\\ub2a5,\\uc11d\\ud559,\\uc774\\ud64d\\ub77d,CSAI,\\ucd5c\\uace0,AI,\\uacfc\\ud559\\uc790,Chief,Scientist,AI,\\uc13c\\ud130\\uc7a5,\\uc120\\ud589,\\ucd5c\\uc2e0,AI,\\uc120\\ud589,\\uc5f0\\uad6c\\uc6d0,\\ud569\\ub958,\\uc774\\ubb38\\ud0dc,\\ubbf8\\uad6d,\\uc77c\\ub9ac\\ub178\\uc774\\ub300,\\uad50\\uc218,\\uc13c\\ud130\\uc7a5,\\uc8fc\\ub3c4,\\ubbf8\\uc2dc\\uac04,\\ub9ac\\uc11c\\uce58,\\uc13c\\ud130,\\ubbf8\\uc2dc\\uac04\\ub300,AI,\\uc120\\ud589,\\uc9c4\\ud589,\\uacc4\\ud68d,\\ubbf8\\uc2dc\\uac04\\ub300,\\ud3ec\\ube0c\\uc2a4,\\uc120\\uc815,\\ub370\\uc774\\ud130,\\uc0ac\\uc774\\uc5b8\\uc2a4,\\uc138\\uacc4,AI,\\ub370\\uc774\\ud130,\\uc0ac\\uc774\\uc5b8\\uc2a4,\\uc6b4\\uc601,\\uc218\\uc900,\\uc138\\uacc4,\\ucd5c\\uace0,AI,\\uc5ed\\ub7c9,\\ubcf4\\uc720,\\ub9ac\\uc11c\\uce58\\uc13c\\ud130,\\uac1c\\uc18c,\\uc564\\uc544\\ubc84,\\uc9c0\\uc5ed,\\uc778\\uadfc,GM,\\ud3ec\\ub4dc,\\uc2a4\\ud154\\ub780\\ud2f0\\uc2a4,\\uc644\\uc131\\ucc28\\uc5c5\\uccb4,\\ubd81\\ubbf8,\\uc644\\uc131,\\uc5c5\\uccb4,\\uacf5\\uc7a5,\\uc0b0\\ud559\\ud611\\ub825,\\ucd94\\uc9c4,\\ucd5c\\uc801,\\uc785\\uc9c0,\\uc870\\uac74,\\uc13c\\ud130\\uc7a5,22\\uc77c,\\ud604\\uc9c0\\uc2dc\\uac04,\\uac1c\\uc18c\\uc2dd,\\uac1c\\uc18c,\\ubd81\\ubbf8,\\uc13c\\ud130,\\uc5f0\\uad6c\\uc6d0,LG,AI,\\ud55c\\uad6d,\\uae00\\ub85c\\ubc8c,\\ub3c4\\uc57d,\\uccab\\uac78\\uc74c,\\uc2dc\\uc57c,\\uc138\\uacc4,\\ud655\\uc7a5,\\ubd84\\uc57c,\\ub300\\ud559,\\uae30\\uad00,\\uc811\\uc810,AI,\\uacbd\\uc7c1\\ub825,\\uc218\\uc900,\\uae00\\ub85c\\ubc8c,\\ucd5c\\uace0,\\ud3ec\\ubd80,\\ub9ac\\uc11c\\uce58\\uc13c\\ud130,LG,AI,\\ub9ac\\uc11c\\uce58,\\uc13c\\ud130,\\uac1c\\uc18c\\uc2dd,\\ubbf8\\uc2dc\\uac04\\ub300,AI,\\uc804\\uacf5,\\uad50\\uc218,\\ub300\\ud559\\uc6d0,\\ub300\\uc0c1,\\ucc44\\uc6a9,\\uc124\\uba85\\ud68c,\\uc2dc\\uc791,AI,\\uc778\\uc7ac,\\uc601\\uc785,\\ud65c\\ub3d9,\\uc608\\uc815,\\ubd81\\ubbf8,AI,\\uba85\\ubb38,\\ub300\\ud559,\\uae30\\uad00,\\uc0b0\\ud559,\\ud611\\ub825,\\uac15\\ud654,AI,\\uc8fc\\ub3c4,\\uacc4\\ud68d,\\uc5c5\\uacc4,\\ud68c\\uc7a5,AI,\\ub9cc\\ud07c,\\ubd84\\uc57c,\\ub9cc\\ud07c,\\uc9c0\\uc18d\\uc801,\\ud22c\\uc790,\\uc804\\ub9dd,\\ud68c\\uc7a5,LG,AI,\\uc5f0\\uad6c\\uc6d0,\\ucd9c\\ubc94,\\ucd5c\\uace0,\\uc778\\uc7ac,\\ud30c\\ud2b8\\ub108\\ub4e4,\\uc138\\uc0c1,\\ub09c\\uc81c,\\ub3c4\\uc804,\\uc0dd\\ud0dc\\uacc4,\\uae00\\ub85c\\ubc8c,AI,\\uc0dd\\ud0dc,\\uc911\\uc2ec,\\ubc1c\\uc804,\\uc751\\uc6d0,\\uc57d\\uc18d,\\uc774\\ub2ec,\\uc11c\\uc6b8\\ub300,\\ub9ac\\uc11c\\uce58\\uc13c\\ud130,SNU-LG,AI,\\ub9ac\\uc11c\\uce58,\\uc13c\\ud130,\\uc124\\ub9bd,\\uc5f0\\uad6c\\uc6d0,LG,AI,2023\\ub144,\\uadf8\\ub8f9,1000\\uba85,AI,\\uc804\\ubb38\\uac00,\\uc721\\uc131,\\ub9ac\\ub354\\uc2ed,\\uae00\\ub85c\\ubc8c,AI,\\ud655\\ubcf4,\\ub2e8\\uae30,\\ube44\\uc804,\\ucd94\\uc9c4\",\n          \"\\ub0a0\\uc528,07\\uc77c,\\ud654\\uc694\\uc77c,\\ub0a0\\uc528,\\uc9c0\\ubc29,\\uac15\\ud48d\\uc8fc\\uc758\\ubcf4,\\ubc1c\\ud6a8\\uc911,\\uc804\\uad6d,\\ub0a0\\uc528,\\uae30\\uc628,\\uc11c\\uc6b8,\\uc778\\ucc9c,\\uc218\\uc6d0,\\ucd98\\ucc9c,\\uac15\\ub989,\\uccad\\uc8fc,\\ub300\\uc804,\\uc804\\uc8fc,\\uad11\\uc8fc,\\ub300\\uad6c,\\ubd80\\uc0b0,\\uc81c\\uc8fc,\\uae30\\uc628,\\uc11c\\uc6b8,\\uc778\\ucc9c,\\uc218\\uc6d0,\\ucd98\\ucc9c,\\uac15\\ub989,\\uccad\\uc8fc,\\ub300\\uc804,\\uc804\\uc8fc,\\uad11\\uc8fc,\\ub300\\uad6c,\\ubd80\\uc0b0,\\uc81c\\uc8fc,\\uc608\\uc0c1,\\ub0a0\\uc528\"\n        ],\n        \"semantic_type\": \"\",\n        \"description\": \"\"\n      }\n    },\n    {\n      \"column\": \"\\ud2b9\\uc131\\ucd94\\ucd9c(\\uac00\\uc911\\uce58\\uc21c \\uc0c1\\uc704 50\\uac1c)\",\n      \"properties\": {\n        \"dtype\": \"string\",\n        \"num_unique_values\": 5599,\n        \"samples\": [\n          \"\\uc790\\ub3d9\\ucc28,\\uc804\\uc2dc\\uad00,\\uad11\\uc8fc\\ub300,\\uc790\\uc728\\uc8fc\\ud589,\\uad11\\uc8fc,\\ucde8\\uc5c5\\uc5ed\\ub7c9,\\uc778\\uacf5\\uc9c0\\ub2a5,\\uadf8\\ub9b0\\uce74,\\ub9cc\\ud07c,\\uae40\\ud0dc\\uc131,\\uad11\\uc8fc\\uae00\\ub85c\\ubc8c\\ubaa8\\ud130\\uc2a4,\\uae40\\ud601\\uc885,\\ud0d0\\uc9c4\\uad00,\\uc790\\ub3d9\\ucc28\\ud559,\\ud559\\uc0dd\\ub4e4\",\n          \"\\uc778\\uacf5\\uc9c0\\ub2a5,\\uc2a4\\ud0c0\\ud2b8\\uc5c5,\\uc774\\ub8e8\\ub2e4,\\uc0c1\\ud5a5\\uc2dd,\\uc2a4\\uce90\\ud130,\\ubb38\\uc81c\\uc758\\uc2dd,\\uc2a4\\uce90\\ud130\\ub7a9,\\ube45\\ud14c\\ud06c,\\ubb38\\uc544\\ub78c,\\uc9c8\\uc758\\uc751\\ub2f5,\\uc11c\\uc6b8,\\ud14c\\uc2a4\\ud2b8\\uc6cd\\uc2a4\",\n          \"pisa,\\uc2e4\\uc0dd\\ud65c,\\ud55c\\uad6d,\\ubbf8\\uc801\\ubd84,\\uc218\\ud559\\uc18c\\uc591,\\uace0\\ub4f1\\ud559\\uad50,\\uc218\\ud559\\uad50\\uc721,\\uc778\\uacf5\\uc9c0\\ub2a5,\\ud559\\uc5c5\\uc131\\ucde8\\ub3c4,\\ud3c9\\uac00\\ud2c0,\\uce58\\ud2b8\\ud0a4,\\uc218\\ud3ec\\uc790,\\uc131\\ucde8\\ub3c4,\\ubc15\\uc601\\ud6c8,\\ud559\\uc0dd\\ub4e4,\\ubb38\\uc81c\\uc810,\\ubbf8\\uad6d\"\n        ],\n        \"semantic_type\": \"\",\n        \"description\": \"\"\n      }\n    },\n    {\n      \"column\": \"\\ubcf8\\ubb38\",\n      \"properties\": {\n        \"dtype\": \"string\",\n        \"num_unique_values\": 5517,\n        \"samples\": [\n          \"\\uc778\\uacf5\\uc9c0\\ub2a5(AI) \\uc120\\ub3c4\\ub3c4\\uc2dc\\ub97c \\uc774\\ub04c \\uad11\\uc8fc AI\\uc601\\uc7ac\\uace0 \\uc124\\ub9bd\\uc774 \\uccab\\ubc1c\\uc744 \\ub0b4\\ub51b\\uc5c8\\ub2e4. \\n \\n\\uad11\\uc8fc\\uc2dc\\ub294 \\ucd5c\\uadfc \\uad6d\\ud68c\\uc5d0\\uc11c \\ub0b4\\ub144\\ub3c4 \\uc815\\ubd80 \\uc608\\uc0b0\\uc5d0 \\u2018\\uad11\\uc8fc \\uacfc\\ud559\\uae30\\uc220\\uc6d0(GIST) \\ubd80\\uc124 \\uc778\\uacf5\\uc9c0\\ub2a5 \\uc601\\uc7ac\\uace0 \\uc124\\ub9bd\\u2019 \\uae30\\ud68d \\uc6a9\\uc5ed\\ube44 10\\uc5b5\\uc6d0\\uc774 \\ubc18\\uc601\\ub410\\ub2e4\\uace0 26\\uc77c \\ubc1d\\ud614\\ub2e4. \\uc608\\uc0b0 \\uc2ec\\uc0ac \\ub9c9\\ubc14\\uc9c0\\uae4c\\uc9c0 \\ubc18\\uc601 \\uc5ec\\ubd80\\uac00 \\ubd88\\ud22c\\uba85\\ud588\\ub2e4\\uac00 \\ub9c9\\ud310\\uc5d0 \\ud3ec\\ud568\\ub41c \\uac83\\uc73c\\ub85c \\uc804\\ud574\\uc84c\\ub2e4. \\n \\n\\uad11\\uc8fc AI \\uc601\\uc7ac\\uace0 \\uc124\\ub9bd\\uc740 \\uc9c0\\ub09c 9\\uc6d4 \\uc724\\uc11d\\uc5f4..\",\n          \"\\uc88b\\uc740 \\uc544\\uc774\\ub514\\uc5b4\\ub780 \\ub208\\uae38\\uc744 \\ub044\\ub294 \\uc544\\uc774\\ub514\\uc5b4\\ub2e4. \\ub208\\uc774 \\ubc88\\uca4d \\ub728\\uc774\\ub294 \\uc544\\uc774\\ub514\\uc5b4\\ub780 \\ubb34\\uc5c7\\uc778\\uac00? \\uc2e0\\uc120\\ud55c \\uc870\\ud569, \\ubd88\\uac00\\ub2a5\\ud55c \\uc870\\ud569, \\uc788\\uc744 \\uc218 \\uc5c6\\ub2e4\\uace0 \\uc0dd\\uac01\\ud588\\ub358 \\uc870\\ud569\\uc774\\ub2e4. \\ud575\\uc2ec\\uc740 \\uc544\\uc774\\ub7ec\\ub2c8\\ub2e4. \\n\\n\\uc544\\uc774\\ub7ec\\ub2c8, \\ub9d0\\uc740 \\uc5b4\\ub835\\uc9c0\\ub9cc \\ub9cc\\ub4e4\\uae30\\ub294 \\uc27d\\ub2e4. \\uacb0\\uc774 \\ub2e4\\ub978 \\uac83\\ub07c\\ub9ac \\uc5b5\\uc9c0\\ub85c \\ubd99\\uc5ec \\ub193\\uc73c\\uba74 \\uc544\\uc774\\ub7ec\\ub2c8\\uac00 \\ub41c\\ub2e4. \\u2018\\uc870\\uc120\\u2019\\uacfc \\u2018\\uc880\\ube44\\u2019? \\u3008\\ud0b9\\ub364\\u3009\\uc740 \\uc778\\uae30 \\ub4dc\\ub77c\\ub9c8\\uc600\\ub2e4. \\u2018\\uc0b0\\ud0c0\\ud074\\ub85c\\uc2a4\\u2019\\uc640 \\u2018\\uc5ec\\uc131'? \\u2018\\uc0b0\\ud0c0 \\ud560\\uba38..\",\n          \"9\\uc6d4 11\\uc77c \\uc77c\\uc694\\uc77c, \\uc624\\ud6c4 \\ub0a0\\uc528\\uc785\\ub2c8\\ub2e4. \\n \\n\\uc774 \\uc2dc\\uac04 \\ud604\\uc7ac \\ub300\\ubd80\\ubd84 \\uc9c0\\ubc29\\uc774 \\ud750\\ub9b0 \\ub0a0\\uc528\\ub97c \\ubcf4\\uc774\\uace0 \\uc788\\uace0, \\ucda9\\uccad \\uc81c\\uc8fc \\uc9c0\\ubc29\\uc740 \\uad6c\\ub984\\uc774 \\ub9ce\\uc73c\\uba70, \\uacbd\\ub0a8 \\uc9c0\\ubc29\\uc740 \\ube44\\uac00 \\ub0b4\\ub9ac\\uace0 \\uc788\\uc2b5\\ub2c8\\ub2e4. \\n \\n\\ud604\\uc7ac \\uae30\\uc628\\uc740 \\uc11c\\uc6b8 25\\ub3c4, \\uc778\\ucc9c 25\\ub3c4, \\uc218\\uc6d0 25\\ub3c4, \\ucd98\\ucc9c 25\\ub3c4, \\uac15\\ub989 23\\ub3c4, \\uccad\\uc8fc 27\\ub3c4, \\ub300\\uc804 26\\ub3c4, \\uc804\\uc8fc 27\\ub3c4, \\uad11\\uc8fc 28\\ub3c4, \\ub300\\uad6c 27\\ub3c4, \\ubd80\\uc0b0 27\\ub3c4, \\uc81c\\uc8fc 26..\"\n        ],\n        \"semantic_type\": \"\",\n        \"description\": \"\"\n      }\n    },\n    {\n      \"column\": \"URL\",\n      \"properties\": {\n        \"dtype\": \"string\",\n        \"num_unique_values\": 5590,\n        \"samples\": [\n          \"http://www.naeil.com/news_view/?id_art=422877\",\n          \"https://news.kmib.co.kr/article/view.asp?arcid=0017397155&code=61121611&cp=kd\",\n          \"http://www.hani.co.kr/arti/society/schooling/1044060.html\"\n        ],\n        \"semantic_type\": \"\",\n        \"description\": \"\"\n      }\n    },\n    {\n      \"column\": \"\\ubd84\\uc11d\\uc81c\\uc678 \\uc5ec\\ubd80\",\n      \"properties\": {\n        \"dtype\": \"category\",\n        \"num_unique_values\": 3,\n        \"samples\": [\n          \"\\uc608\\uc678\",\n          \"\\uc911\\ubcf5\",\n          \"\\uc911\\ubcf5, \\uc608\\uc678\"\n        ],\n        \"semantic_type\": \"\",\n        \"description\": \"\"\n      }\n    }\n  ]\n}"
            }
          },
          "metadata": {},
          "execution_count": 3
        }
      ]
    },
    {
      "cell_type": "code",
      "source": [
        "# '제목'과 '본문' 컬럼을 합쳐 '제목_본문'이라는 새로운 컬럼을 생성합니다.\n",
        "df['제목_본문'] = df['제목'] + df['본문']"
      ],
      "metadata": {
        "id": "8ECUD_qG0yjy"
      },
      "execution_count": 4,
      "outputs": []
    },
    {
      "cell_type": "code",
      "execution_count": 5,
      "metadata": {
        "colab": {
          "base_uri": "https://localhost:8080/"
        },
        "id": "fIEcd5tYILYS",
        "outputId": "46307df2-0388-4a7d-9910-ecf02a6871e9"
      },
      "outputs": [
        {
          "output_type": "execute_result",
          "data": {
            "text/plain": [
              "0       트럼프, 주황 죄수복 입고 바닥 청소 이 사진 정체 알고보니도널드 트럼프 전 미국 ...\n",
              "1       트럼프 체포됐다고? AI로 만든 가짜 사진 퍼지며 논란도널드 트럼프 전 미국 대통령...\n",
              "2       트럼프가 체포됐다? “다리가 이상해” AI 가짜 이미지에 ‘깜빡’‘성추문 입막음’ ...\n",
              "3       ‘선허용 후규제’ AI법 논란  시민단체 “사회 경제 손실 초래”정보 인권관련 시민...\n",
              "4       비브스튜디오스, 몬스터유니온과 드라마 공동제작 MOU 체결KBS 대하사극 ‘고려거란...\n",
              "                              ...                        \n",
              "5606    경기도정 ‘디지털 전환’ 청사진 제시앞으로 경기도에선 인공지능을 활용해 민원 서식을...\n",
              "5607    AI 횡단보도가 휠체어 감지해 보행신호 연장울산시 남구 울산시청 앞 횡단보도. 보행...\n",
              "5608    [삶의 향기] ‘쓰봉’과 ‘우와기’ 기억하시나요우연한 기회에 차로 두어 시간을 가야...\n",
              "5609    [라이프 트렌드&] “신제품을 얻은 듯 만족”   쓸수록 진화하는 ‘UP가전’LG전...\n",
              "5610    공무원 추첨제 꺼낸 약사 출신, '약사도 추첨제 하셈' 지적에 [박한슬의 댓글 읽어...\n",
              "Name: 제목_본문, Length: 5611, dtype: object"
            ]
          },
          "metadata": {},
          "execution_count": 5
        }
      ],
      "source": [
        "df['제목_본문']"
      ]
    },
    {
      "cell_type": "code",
      "execution_count": 6,
      "metadata": {
        "id": "iUkmicb-72Qr"
      },
      "outputs": [],
      "source": [
        "# Okt 형태소 분석기 객체를 생성합니다. 한국어 텍스트 분석을 위한 준비 단계입니다.\n",
        "okt = Okt()\n",
        "\n",
        "# 텍스트 데이터를 형태소 단위로 분석하여 특정 품사(명사, 형용사, 동사)만 추출하는 함수입니다.\n",
        "def tokenizer(text):\n",
        "    morph = okt.pos(text)\n",
        "    words = []\n",
        "    for word, tag in morph:\n",
        "        if tag in ['Noun', 'Adjective', 'Verb']:\n",
        "            if len(word) > 1:  # 한 글자보다 긴 단어만 선택\n",
        "                words.append(word)\n",
        "    return words"
      ]
    },
    {
      "cell_type": "code",
      "source": [
        "text='나는 어제 영어 공부를 열심해 했다'"
      ],
      "metadata": {
        "id": "pz5ZZ6w62K5H"
      },
      "execution_count": 7,
      "outputs": []
    },
    {
      "cell_type": "code",
      "source": [
        "okt = Okt()\n",
        "okt.pos(text)"
      ],
      "metadata": {
        "colab": {
          "base_uri": "https://localhost:8080/"
        },
        "id": "2bXvGAFF2P0L",
        "outputId": "95c647c0-5d0c-4ac2-cb4e-97c98ff9c4ba"
      },
      "execution_count": 8,
      "outputs": [
        {
          "output_type": "execute_result",
          "data": {
            "text/plain": [
              "[('나', 'Noun'),\n",
              " ('는', 'Josa'),\n",
              " ('어제', 'Noun'),\n",
              " ('영어', 'Noun'),\n",
              " ('공부', 'Noun'),\n",
              " ('를', 'Josa'),\n",
              " ('열', 'Modifier'),\n",
              " ('심해', 'Noun'),\n",
              " ('했다', 'Verb')]"
            ]
          },
          "metadata": {},
          "execution_count": 8
        }
      ]
    },
    {
      "cell_type": "code",
      "execution_count": 9,
      "metadata": {
        "id": "UuHiAbEI8608"
      },
      "outputs": [],
      "source": [
        "# 데이터프레임의 모든 데이터를 문자열 타입으로 변환합니다. 이는 형태소 분석을 위한 준비 단계입니다.\n",
        "df = df.astype('str')\n",
        "\n",
        "#'제목_본문' 컬럼에 tokenizer 함수를 적용하여, 형태소 분석을 수행하고 결과를 다시 해당 컬럼에 저장합니다.\n",
        "df['제목_본문'] = df['제목_본문'].apply(tokenizer)\n",
        "\n",
        "# 데이터프레임의 모든 열을 문자열 타입으로 변환합니다. 안전한 파일 저장을 위한 단계입니다.\n",
        "df = df.astype('str')\n",
        "\n",
        "# 데이터프레임을 '정제파일.csv'로 저장합니다. 분석 결과를 파일로 저장하는 단계입니다.\n",
        "df.to_csv('정제파일.csv', encoding='utf-8')"
      ]
    },
    {
      "cell_type": "code",
      "execution_count": 10,
      "metadata": {
        "id": "7iuQrt5OvGdy",
        "colab": {
          "base_uri": "https://localhost:8080/"
        },
        "outputId": "33c5d4ab-1357-4ef6-9071-9bd563866ba5"
      },
      "outputs": [
        {
          "output_type": "execute_result",
          "data": {
            "text/plain": [
              "0       ['트럼프', '주황', '죄수복', '입고', '바닥', '청소', '사진', '...\n",
              "1       ['트럼프', '체포', '됐다고', '만든', '가짜', '사진', '퍼지며', ...\n",
              "2       ['트럼프', '체포', '됐다', '다리', '이상해', '가짜', '이미지', ...\n",
              "3       ['허용', '규제', '논란', '시민단체', '사회', '경제', '손실', '...\n",
              "4       ['비브', '스튜', '디오스', '몬스터', '유니온', '드라마', '공동',...\n",
              "                              ...                        \n",
              "5606    ['경기', '도정', '디지털', '전환', '청사진', '경기도', '인공', ...\n",
              "5607    ['횡단보도', '휠체어', '감지', '보행', '신호', '연장', '산시', ...\n",
              "5608    ['향기', '기억', '하시나요', '우연', '기회', '차로', '두어', '...\n",
              "5609    ['라이프', '트렌드', '신제품', '얻은', '만족', '쓸수록', '진화',...\n",
              "5610    ['공무원', '추첨', '꺼낸', '약사', '출신', '약사', '추첨', '지...\n",
              "Name: 제목_본문, Length: 5611, dtype: object"
            ]
          },
          "metadata": {},
          "execution_count": 10
        }
      ],
      "source": [
        "df['제목_본문']"
      ]
    },
    {
      "cell_type": "markdown",
      "metadata": {
        "id": "YJYDK5CpcOjN"
      },
      "source": [
        "# 빈도분석 및 워드크라우드 시각화"
      ]
    },
    {
      "cell_type": "code",
      "execution_count": 11,
      "metadata": {
        "id": "wKjUv9_kbDhP"
      },
      "outputs": [],
      "source": [
        "from sklearn.feature_extraction.text import CountVectorizer  # CountVectorizer 임포트\n",
        "df = pd.read_csv('/content/정제파일.csv', encoding='utf-8')\n",
        "\n",
        "cv = CountVectorizer(max_features=3000)###최대개수설정\n",
        "\n",
        "# CountVectorizer를 사용하여 '제목_본문' 컬럼의 텍스트 데이터를 문서-단어 행렬로 변환합니다.\n",
        "tdm = cv.fit_transform(df['제목_본문'])\n",
        "\n",
        "# 단어와 그 빈도수를 담은 데이터프레임을 생성합니다. 이는 단어 사용 빈도 분석을 위한 단계입니다.\n",
        "word_count_tf = pd.DataFrame({'단어': cv.get_feature_names_out(), '빈도': tdm.sum(axis=0).flat})\n",
        "\n",
        "# 단어 빈도수를 기준으로 내림차순으로 정렬합니다. 이는 가장 자주 사용된 단어를 확인하기 위한 단계입니다.\n",
        "word_count_tf = word_count_tf.sort_values('빈도', ascending=False)\n",
        "\n",
        "# 단어 빈도수를 'word_count.xlsx' 엑셀 파일로 저장합니다. 결과를 저장하는 단계입니다.\n",
        "word_count_tf.to_excel('word_count.xlsx')"
      ]
    },
    {
      "cell_type": "code",
      "execution_count": 12,
      "metadata": {
        "colab": {
          "base_uri": "https://localhost:8080/",
          "height": 417
        },
        "id": "LpbIQl6KbVPd",
        "outputId": "84db708c-a044-40e9-ffbd-fd0503049f10"
      },
      "outputs": [
        {
          "output_type": "execute_result",
          "data": {
            "text/plain": [
              "<PIL.Image.Image image mode=RGB size=400x400>"
            ],
            "image/png": "[encoded data removed]"
          },
          "metadata": {},
          "execution_count": 12
        }
      ],
      "source": [
        "# WordCloud 라이브러리를 임포트합니다: 텍스트 데이터의 빈도수를 시각화하기 위한 도구입니다.\n",
        "from wordcloud import WordCloud\n",
        "\n",
        "# 한글 폰트 경로를 지정합니다. WordCloud에서 한글을 정상적으로 표시하기 위한 준비 단계입니다.\n",
        "font_path = '/content/malgun.ttf'\n",
        "\n",
        "# WordCloud 객체를 생성합니다. 여기서는 배경색을 흰색으로, 최대 단어 수를 50개로 설정합니다.\n",
        "wc = WordCloud(background_color='white', max_words=50, font_path=font_path,width=400, height=400)\n",
        "\n",
        "# 단어 빈도 사전을 생성합니다. 이는 WordCloud 생성에 사용될 데이터입니다.\n",
        "count_dic = dict(zip(word_count_tf['단어'], word_count_tf['빈도']))\n",
        "\n",
        "# WordCloud를 이용해 단어 빈도를 시각화합니다. 이는 가장 많이 사용된 단어를 시각적으로 확인하기 위한 단계입니다.\n",
        "cloud = wc.fit_words(count_dic)\n",
        "cloud.to_file('word_cloud.png')\n",
        "cloud.to_image()"
      ]
    },
    {
      "cell_type": "markdown",
      "metadata": {
        "id": "HfHO78GvcJy2"
      },
      "source": [
        "# TF-IDF 및 워드크라우드 시각화"
      ]
    },
    {
      "cell_type": "code",
      "execution_count": 13,
      "metadata": {
        "id": "GL90Grw8b0JN"
      },
      "outputs": [],
      "source": [
        "# TfidfTransformer를 임포트합니다: TF-IDF 값을 계산하기 위한 도구입니다.\n",
        "from sklearn.feature_extraction.text import TfidfTransformer\n",
        "\n",
        "# TfidfTransformer 객체를 생성합니다. 이는 문서-단어 행렬의 단어 빈도수를 TF-IDF 값으로 변환하기 위한 준비 단계입니다.\n",
        "trans = TfidfTransformer()\n",
        "\n",
        "# 문서-단어 행렬에 대해 TF-IDF 변환을 수행합니다. 이는 각 단어의 중요도를 수치화하는 단계입니다.\n",
        "dtm2 = trans.fit_transform(tdm)\n",
        "\n",
        "# 단어와 그 TF-IDF 값을 담은 데이터프레임을 생성합니다. 이는 단어의 중요도 분석을 위한 단계입니다.\n",
        "df2 = pd.DataFrame({'단어': cv.get_feature_names_out(), 'tf-idf': dtm2.sum(axis=0).flat})\n",
        "\n",
        "# TF-IDF 값을 기준으로 내림차순으로 정렬합니다. 이는 중요한 단어를 확인하기 위한 단계입니다.\n",
        "df2 = df2.sort_values('tf-idf', ascending=False)\n",
        "\n",
        "# 인덱스를 재설정합니다. 이는 데이터의 가독성을 높이기 위한 단계입니다.\n",
        "df2 = df2.reset_index(drop=True)\n",
        "df2.index = df2.index + 1\n",
        "\n",
        "# TF-IDF 값을 'tf_idf.csv' 파일로 저장합니다. 결과를 저장하는 단계입니다. 인코딩을 cp949로 설정하여 한글이 깨지지 않게 합니다.\n",
        "df2.to_csv('tf_idf.csv', encoding='cp949')"
      ]
    },
    {
      "cell_type": "code",
      "execution_count": 14,
      "metadata": {
        "colab": {
          "base_uri": "https://localhost:8080/",
          "height": 417
        },
        "id": "B7Oks-QEb7X-",
        "outputId": "e0ce118a-39d2-4b2d-d8f4-5e2914ca9f4c"
      },
      "outputs": [
        {
          "output_type": "execute_result",
          "data": {
            "text/plain": [
              "<PIL.Image.Image image mode=RGB size=400x400>"
            ],
            "image/png": "[encoded data removed]"
          },
          "metadata": {},
          "execution_count": 14
        }
      ],
      "source": [
        "from wordcloud import WordCloud  # WordCloud 임포트\n",
        "\n",
        "# 한글 폰트 경로 지정\n",
        "font_path = '/content/malgun.ttf'\n",
        "\n",
        "# WordCloud 객체를 다시 생성합니다. 이번에는 TF-IDF 값을 기반으로 가장 중요한 단어를 시각화합니다.\n",
        "wc = WordCloud(background_color='black', max_words=30, font_path=font_path,width=400, height=400)\n",
        "\n",
        "# TF-IDF 값을 기반으로 단어 빈도 사전을 생성합니다.\n",
        "count_dic = dict(zip(df2['단어'], df2['tf-idf']))\n",
        "\n",
        "# WordCloud를 이용해 TF-IDF 값을 시각화합니다. 이는 중요한 단어를 시각적으로 확인하기 위한 단계입니다.\n",
        "cloud = wc.fit_words(count_dic)\n",
        "cloud.to_image()"
      ]
    },
    {
      "cell_type": "markdown",
      "metadata": {
        "id": "JNAJ4kwBcHAQ"
      },
      "source": [
        "# LDA분석"
      ]
    },
    {
      "cell_type": "code",
      "execution_count": 15,
      "metadata": {
        "id": "fpROVhl9cQsj"
      },
      "outputs": [],
      "source": [
        "# LDA 분석을 위한 라이브러리 임포트\n",
        "import gensim.corpora as corpora\n",
        "from gensim.models.ldamodel import LdaModel\n",
        "import gensim\n",
        "import matplotlib.pyplot as plt  # 시각화\n",
        "import pandas as pd"
      ]
    },
    {
      "cell_type": "code",
      "execution_count": 16,
      "metadata": {
        "id": "Rgx5d43hcqQS"
      },
      "outputs": [],
      "source": [
        "# CSV 파일에서 데이터 불러오기\n",
        "data = pd.read_csv('/content/정제파일.csv', encoding='utf-8')\n",
        "data = data.astype('str')\n",
        "data=data['제목_본문']"
      ]
    },
    {
      "cell_type": "code",
      "execution_count": 17,
      "metadata": {
        "id": "ssnkil3rv5qL",
        "colab": {
          "base_uri": "https://localhost:8080/"
        },
        "outputId": "597a189a-0b47-4bfb-8708-737c904a1ff7"
      },
      "outputs": [
        {
          "output_type": "execute_result",
          "data": {
            "text/plain": [
              "0       ['트럼프', '주황', '죄수복', '입고', '바닥', '청소', '사진', '...\n",
              "1       ['트럼프', '체포', '됐다고', '만든', '가짜', '사진', '퍼지며', ...\n",
              "2       ['트럼프', '체포', '됐다', '다리', '이상해', '가짜', '이미지', ...\n",
              "3       ['허용', '규제', '논란', '시민단체', '사회', '경제', '손실', '...\n",
              "4       ['비브', '스튜', '디오스', '몬스터', '유니온', '드라마', '공동',...\n",
              "                              ...                        \n",
              "5606    ['경기', '도정', '디지털', '전환', '청사진', '경기도', '인공', ...\n",
              "5607    ['횡단보도', '휠체어', '감지', '보행', '신호', '연장', '산시', ...\n",
              "5608    ['향기', '기억', '하시나요', '우연', '기회', '차로', '두어', '...\n",
              "5609    ['라이프', '트렌드', '신제품', '얻은', '만족', '쓸수록', '진화',...\n",
              "5610    ['공무원', '추첨', '꺼낸', '약사', '출신', '약사', '추첨', '지...\n",
              "Name: 제목_본문, Length: 5611, dtype: object"
            ]
          },
          "metadata": {},
          "execution_count": 17
        }
      ],
      "source": [
        "data"
      ]
    },
    {
      "cell_type": "code",
      "execution_count": 18,
      "metadata": {
        "id": "FJkOV3vCcvvR"
      },
      "outputs": [],
      "source": [
        "# 'data' 리스트에 저장된 텍스트 데이터(예: '제목_본문')를 공백 기준으로 분할하여 토큰 리스트를 생성합니다.\n",
        "token = [keywords.split() for keywords in data]\n",
        "# 토큰 리스트를 기반으로 Gensim의 Dictionary 객체를 생성합니다. 이 객체는 각 토큰에 고유한 ID를 매핑합니다.\n",
        "# 결과적으로, 텍스트 데이터의 모든 유니크한 단어가 ID와 함께 딕셔너리로 관리됩니다.\n",
        "id2word = corpora.Dictionary(token)\n",
        "\n",
        "# 딕셔너리에서 빈도수 기반으로 단어를 필터링합니다. no_below와 no_above 파라미터를 사용하여,\n",
        "# 너무 드물게 나타나는 단어(no_below 이하)와 너무 자주 나타나는 단어(no_above 이상)를 제거합니다.\n",
        "# no_below=3는 각 단어가 최소 3개의 문서에 나타나야 함을 의미합니다.\n",
        "# no_above=0.1는 전체 문서의 10% 미만에만 나타나는 단어를 유지함을 의미합니다.\n",
        "id2word.filter_extremes(no_below=5, no_above=0.2)\n",
        "\n",
        "# 최종적으로, 각 문서를 (단어 ID, 단어 빈도) 튜플의 리스트로 변환하는 문서-단어 빈도 매트릭스(corpus)를 생성합니다.\n",
        "# 이 과정에서 각 문서 내에 있는 단어들이 얼마나 자주 나타나는지를 기록합니다.\n",
        "# 이 corpus는 텍스트 데이터를 기반으로 한 다양한 모델링 작업(예: LDA 주제 모델링)에 사용될 수 있습니다.\n",
        "corpus = [id2word.doc2bow(text) for text in token]\n"
      ]
    },
    {
      "cell_type": "code",
      "execution_count": 19,
      "metadata": {
        "id": "N08gYAj4cybD",
        "colab": {
          "base_uri": "https://localhost:8080/"
        },
        "outputId": "9b4810f1-f74f-4f4b-fe72-56fdd5e75bae"
      },
      "outputs": [
        {
          "output_type": "stream",
          "name": "stderr",
          "text": [
            "WARNING:gensim.models.ldamodel:too few updates, training might not converge; consider increasing the number of passes or iterations to improve accuracy\n",
            "WARNING:gensim.models.ldamodel:too few updates, training might not converge; consider increasing the number of passes or iterations to improve accuracy\n",
            "WARNING:gensim.models.ldamodel:too few updates, training might not converge; consider increasing the number of passes or iterations to improve accuracy\n",
            "WARNING:gensim.models.ldamodel:too few updates, training might not converge; consider increasing the number of passes or iterations to improve accuracy\n",
            "WARNING:gensim.models.ldamodel:too few updates, training might not converge; consider increasing the number of passes or iterations to improve accuracy\n",
            "WARNING:gensim.models.ldamodel:too few updates, training might not converge; consider increasing the number of passes or iterations to improve accuracy\n",
            "WARNING:gensim.models.ldamodel:too few updates, training might not converge; consider increasing the number of passes or iterations to improve accuracy\n"
          ]
        }
      ],
      "source": [
        "# numpy 라이브러리를 np라는 이름으로 가져옵니다. numpy는 다양한 수학적 연산을 위해 사용됩니다.\n",
        "import numpy as np\n",
        "\n",
        "# 퍼플렉시티 값을 저장할 빈 리스트를 초기화합니다.\n",
        "perplexity_values = []\n",
        "\n",
        "# 토픽의 수를 3에서 9까지 변화시키면서 LDA 모델의 퍼플렉시티를 계산합니다.\n",
        "# 토픽 수가 변할 때마다 모델의 성능을 퍼플렉시티를 통해 평가합니다.\n",
        "for i in range(3, 10):\n",
        "    # LDA 모델을 생성합니다. 'num_topics=i'는 토픽의 수를 i로 설정합니다.\n",
        "    # 'corpus'는 문서 집합, 'id2word'는 단어의 인덱스 매핑을 나타내는 사전입니다.\n",
        "    lda_model = gensim.models.ldamodel.LdaModel(corpus, num_topics=i, id2word=id2word,random_state=100)\n",
        "    # 모델의 로그 퍼플렉시티를 계산하고, 이를 밑이 e인 지수 함수로 변환하여\n",
        "    # 퍼플렉시티의 역수를 계산합니다. 퍼플렉시티의 역수가 높을수록 모델이 데이터를 더 잘 설명하고 있다는 의미입니다.\n",
        "    perplexity = np.exp(-lda_model.log_perplexity(corpus))\n",
        "    # 계산된 퍼플렉시티의 역수를 리스트에 추가합니다.\n",
        "    perplexity_values.append(perplexity)\n"
      ]
    },
    {
      "cell_type": "code",
      "execution_count": 20,
      "metadata": {
        "colab": {
          "base_uri": "https://localhost:8080/",
          "height": 449
        },
        "id": "R4gVBW6fczn7",
        "outputId": "b6ef462f-902c-4612-e055-5eabb9f27758"
      },
      "outputs": [
        {
          "output_type": "display_data",
          "data": {
            "text/plain": [
              "<Figure size 640x480 with 1 Axes>"
            ],
            "image/png": "[encoded data removed]"
          },
          "metadata": {}
        }
      ],
      "source": [
        "# Perplexity 그래프 시각화\n",
        "import matplotlib.pyplot as plt\n",
        "\n",
        "x = range(3, 10)\n",
        "plt.plot(x, perplexity_values)\n",
        "plt.xlabel(\"number of topics\")\n",
        "plt.ylabel(\"perplexity score\")\n",
        "plt.show()"
      ]
    },
    {
      "cell_type": "code",
      "execution_count": 21,
      "metadata": {
        "id": "CZWtEBMqc2fk",
        "colab": {
          "base_uri": "https://localhost:8080/"
        },
        "outputId": "e630591c-c96c-47f3-cf30-e92b055c42c4"
      },
      "outputs": [
        {
          "output_type": "stream",
          "name": "stderr",
          "text": [
            "WARNING:gensim.models.ldamodel:too few updates, training might not converge; consider increasing the number of passes or iterations to improve accuracy\n",
            "WARNING:gensim.models.ldamodel:too few updates, training might not converge; consider increasing the number of passes or iterations to improve accuracy\n",
            "WARNING:gensim.models.ldamodel:too few updates, training might not converge; consider increasing the number of passes or iterations to improve accuracy\n",
            "WARNING:gensim.models.ldamodel:too few updates, training might not converge; consider increasing the number of passes or iterations to improve accuracy\n",
            "WARNING:gensim.models.ldamodel:too few updates, training might not converge; consider increasing the number of passes or iterations to improve accuracy\n",
            "WARNING:gensim.models.ldamodel:too few updates, training might not converge; consider increasing the number of passes or iterations to improve accuracy\n",
            "WARNING:gensim.models.ldamodel:too few updates, training might not converge; consider increasing the number of passes or iterations to improve accuracy\n"
          ]
        }
      ],
      "source": [
        "from gensim.models import CoherenceModel  # CoherenceModel 임포트\n",
        "\n",
        "coherence_values = []\n",
        "# 다양한 토픽 수에 대해 Coherence 계산\n",
        "for i in range(3, 10):\n",
        "    ldamodel = gensim.models.ldamodel.LdaModel(corpus, num_topics=i, id2word=id2word,random_state=100)\n",
        "    coherence_model_lda = CoherenceModel(model=ldamodel, texts=token, dictionary=id2word, topn=10)\n",
        "    coherence_lda = coherence_model_lda.get_coherence()\n",
        "    coherence_values.append(coherence_lda)"
      ]
    },
    {
      "cell_type": "code",
      "execution_count": 22,
      "metadata": {
        "colab": {
          "base_uri": "https://localhost:8080/",
          "height": 449
        },
        "id": "KLSUTNf-c3zl",
        "outputId": "dd1daa1d-40fc-413d-dc22-3d0e8b20367b"
      },
      "outputs": [
        {
          "output_type": "display_data",
          "data": {
            "text/plain": [
              "<Figure size 640x480 with 1 Axes>"
            ],
            "image/png": "[encoded data removed]"
          },
          "metadata": {}
        }
      ],
      "source": [
        "x = range(3, 10)\n",
        "plt.plot(x, coherence_values)\n",
        "plt.xlabel(\"number of topics\")\n",
        "plt.ylabel(\"coherence score\")\n",
        "plt.show()"
      ]
    },
    {
      "cell_type": "code",
      "execution_count": 23,
      "metadata": {
        "id": "pwsfxhGYKGGi"
      },
      "outputs": [],
      "source": [
        "k=4 ###적정토픽수 입력 coherence를 최대로 하고 perpelxity를 최소로 하는 적절합 토픽수"
      ]
    },
    {
      "cell_type": "code",
      "execution_count": 24,
      "metadata": {
        "id": "xQNv_E8qc5Al"
      },
      "outputs": [],
      "source": [
        "#적정토픽에 해당 되는 단어를 구하기!\n",
        "from gensim import corpora, models\n",
        "# 적절한 토픽 수를 설정하여 LDA 모델 훈련\n",
        "model = LdaModel(corpus=corpus, num_topics=k, id2word=id2word, passes=15,random_state=100)  # num_topic에 적절 토픽 수 설정\n",
        "topics = model.print_topics(num_words=15) ####토픽당 단어수설정"
      ]
    },
    {
      "cell_type": "code",
      "execution_count": 25,
      "metadata": {
        "colab": {
          "base_uri": "https://localhost:8080/"
        },
        "id": "ENc9IoaSc6Qx",
        "outputId": "64c77f8c-68bc-4182-eb35-3aa2c59d2edc"
      },
      "outputs": [
        {
          "output_type": "execute_result",
          "data": {
            "text/plain": [
              "[(0,\n",
              "  '0.013*\"\\'미국\\',\" + 0.011*\"\\'대통령\\',\" + 0.009*\"\\'정부\\',\" + 0.009*\"\\'반도체\\',\" + 0.007*\"\\'투자\\',\" + 0.006*\"\\'중국\\',\" + 0.006*\"\\'있다\\',\" + 0.006*\"\\'세계\\',\" + 0.005*\"\\'윤석열\\',\" + 0.005*\"\\'기업\\',\" + 0.005*\"\\'현지\\',\" + 0.005*\"\\'한국\\',\" + 0.005*\"\\'경제\\',\" + 0.005*\"\\'전자\\',\" + 0.005*\"\\'시장\\',\"'),\n",
              " (1,\n",
              "  '0.010*\"\\'있다\\',\" + 0.007*\"\\'있는\\',\" + 0.007*\"\\'로봇\\',\" + 0.006*\"\\'세계\\',\" + 0.006*\"\\'스타트업\\',\" + 0.006*\"\\'인간\\',\" + 0.005*\"\\'사람\\',\" + 0.005*\"\\'서비스\\',\" + 0.005*\"\\'시대\\',\" + 0.005*\"\\'한다\\',\" + 0.005*\"\\'개발\\',\" + 0.004*\"\\'우리\\',\" + 0.003*\"\\'지난\\',\" + 0.003*\"\\'최근\\',\" + 0.003*\"\\'미래\\',\"'),\n",
              " (2,\n",
              "  '0.014*\"\\'사업\\',\" + 0.012*\"\\'교육\\',\" + 0.011*\"\\'산업\\',\" + 0.009*\"\\'디지털\\',\" + 0.009*\"\\'개발\\',\" + 0.008*\"\\'한국\\',\" + 0.008*\"\\'대학\\',\" + 0.007*\"\\'지원\\',\" + 0.007*\"\\'기업\\',\" + 0.007*\"\\'미래\\',\" + 0.007*\"\\'혁신\\',\" + 0.007*\"\\'분야\\',\" + 0.006*\"\\'센터\\',\" + 0.006*\"\\'인재\\',\" + 0.006*\"\\'기반\\',\"'),\n",
              " (3,\n",
              "  '0.074*\"\\'날씨\\',\" + 0.042*\"\\'기온\\',\" + 0.041*\"\\'지방\\',\" + 0.040*\"\\'인천\\',\" + 0.038*\"\\'입니다\\',\" + 0.030*\"\\'수원\\',\" + 0.030*\"\\'아침\\',\" + 0.029*\"\\'오후\\',\" + 0.028*\"\\'현재\\',\" + 0.027*\"\\'대전\\',\" + 0.026*\"[\\'오늘\\',\" + 0.026*\"\\'춘천\\',\" + 0.025*\"\\'강릉\\',\" + 0.025*\"\\'청주\\',\" + 0.024*\"\\'광주\\',\"')]"
            ]
          },
          "metadata": {},
          "execution_count": 25
        }
      ],
      "source": [
        "topics"
      ]
    },
    {
      "cell_type": "code",
      "execution_count": 26,
      "metadata": {
        "id": "QuAbGyx4c7Ys"
      },
      "outputs": [],
      "source": [
        "# 도출된 토픽을 CSV 파일로 저장\n",
        "TOPIC={'topics':topics}\n",
        "TOPIC=pd.DataFrame(TOPIC)\n",
        "TOPIC.to_csv('lda_result.csv',encoding='cp949')"
      ]
    },
    {
      "cell_type": "code",
      "execution_count": 32,
      "metadata": {
        "colab": {
          "base_uri": "https://localhost:8080/"
        },
        "id": "BEvhqFgNc8cU",
        "outputId": "4b8906f9-d28c-4fa0-cbc0-c922fdf98628"
      },
      "outputs": [
        {
          "output_type": "stream",
          "name": "stderr",
          "text": [
            "/usr/local/lib/python3.10/dist-packages/ipykernel/ipkernel.py:283: DeprecationWarning: `should_run_async` will not call `transform_cell` automatically in the future. Please pass the result to `transformed_cell` argument and any exception that happen during thetransform in `preprocessing_exc_tuple` in IPython 7.17 and above.\n",
            "  and should_run_async(code)\n"
          ]
        },
        {
          "output_type": "stream",
          "name": "stdout",
          "text": [
            "Requirement already satisfied: pyLDAvis in /usr/local/lib/python3.10/dist-packages (3.4.1)\n",
            "Requirement already satisfied: numpy>=1.24.2 in /usr/local/lib/python3.10/dist-packages (from pyLDAvis) (1.25.2)\n",
            "Requirement already satisfied: scipy in /usr/local/lib/python3.10/dist-packages (from pyLDAvis) (1.11.4)\n",
            "Collecting pandas>=2.0.0 (from pyLDAvis)\n",
            "  Using cached pandas-2.2.2-cp310-cp310-manylinux_2_17_x86_64.manylinux2014_x86_64.whl (13.0 MB)\n",
            "Requirement already satisfied: joblib>=1.2.0 in /usr/local/lib/python3.10/dist-packages (from pyLDAvis) (1.4.0)\n",
            "Requirement already satisfied: jinja2 in /usr/local/lib/python3.10/dist-packages (from pyLDAvis) (3.1.3)\n",
            "Requirement already satisfied: numexpr in /usr/local/lib/python3.10/dist-packages (from pyLDAvis) (2.10.0)\n",
            "Requirement already satisfied: funcy in /usr/local/lib/python3.10/dist-packages (from pyLDAvis) (2.0)\n",
            "Requirement already satisfied: scikit-learn>=1.0.0 in /usr/local/lib/python3.10/dist-packages (from pyLDAvis) (1.2.2)\n",
            "Requirement already satisfied: gensim in /usr/local/lib/python3.10/dist-packages (from pyLDAvis) (4.3.2)\n",
            "Requirement already satisfied: setuptools in /usr/local/lib/python3.10/dist-packages (from pyLDAvis) (67.7.2)\n",
            "Requirement already satisfied: python-dateutil>=2.8.2 in /usr/local/lib/python3.10/dist-packages (from pandas>=2.0.0->pyLDAvis) (2.8.2)\n",
            "Requirement already satisfied: pytz>=2020.1 in /usr/local/lib/python3.10/dist-packages (from pandas>=2.0.0->pyLDAvis) (2023.4)\n",
            "Requirement already satisfied: tzdata>=2022.7 in /usr/local/lib/python3.10/dist-packages (from pandas>=2.0.0->pyLDAvis) (2024.1)\n",
            "Requirement already satisfied: threadpoolctl>=2.0.0 in /usr/local/lib/python3.10/dist-packages (from scikit-learn>=1.0.0->pyLDAvis) (3.4.0)\n",
            "Requirement already satisfied: smart-open>=1.8.1 in /usr/local/lib/python3.10/dist-packages (from gensim->pyLDAvis) (6.4.0)\n",
            "Requirement already satisfied: MarkupSafe>=2.0 in /usr/local/lib/python3.10/dist-packages (from jinja2->pyLDAvis) (2.1.5)\n",
            "Requirement already satisfied: six>=1.5 in /usr/local/lib/python3.10/dist-packages (from python-dateutil>=2.8.2->pandas>=2.0.0->pyLDAvis) (1.16.0)\n",
            "Installing collected packages: pandas\n",
            "  Attempting uninstall: pandas\n",
            "    Found existing installation: pandas 1.5.3\n",
            "    Uninstalling pandas-1.5.3:\n",
            "      Successfully uninstalled pandas-1.5.3\n",
            "\u001b[31mERROR: pip's dependency resolver does not currently take into account all the packages that are installed. This behaviour is the source of the following dependency conflicts.\n",
            "google-colab 1.0.0 requires pandas==2.0.3, but you have pandas 2.2.2 which is incompatible.\u001b[0m\u001b[31m\n",
            "\u001b[0mSuccessfully installed pandas-2.2.2\n"
          ]
        }
      ],
      "source": [
        "!pip install pyLDAvis  # pyLDAvis 패키지 설치\n"
      ]
    },
    {
      "cell_type": "code",
      "execution_count": 33,
      "metadata": {
        "colab": {
          "base_uri": "https://localhost:8080/"
        },
        "id": "dy88ExQjyBtL",
        "outputId": "147f8793-f350-42dc-9b2c-5ae8640597e1"
      },
      "outputs": [
        {
          "output_type": "stream",
          "name": "stderr",
          "text": [
            "/usr/local/lib/python3.10/dist-packages/ipykernel/ipkernel.py:283: DeprecationWarning: `should_run_async` will not call `transform_cell` automatically in the future. Please pass the result to `transformed_cell` argument and any exception that happen during thetransform in `preprocessing_exc_tuple` in IPython 7.17 and above.\n",
            "  and should_run_async(code)\n"
          ]
        },
        {
          "output_type": "stream",
          "name": "stdout",
          "text": [
            "Found existing installation: pandas 2.2.2\n",
            "Uninstalling pandas-2.2.2:\n",
            "  Would remove:\n",
            "    /usr/local/lib/python3.10/dist-packages/pandas-2.2.2.dist-info/*\n",
            "    /usr/local/lib/python3.10/dist-packages/pandas/*\n",
            "Proceed (Y/n)? y\n",
            "  Successfully uninstalled pandas-2.2.2\n"
          ]
        }
      ],
      "source": [
        "!pip uninstall pandas   # y입력"
      ]
    },
    {
      "cell_type": "code",
      "source": [
        "!pip install pandas==1.5.3\n",
        "#세션다시시작시 취소해주세요!\n"
      ],
      "metadata": {
        "colab": {
          "base_uri": "https://localhost:8080/",
          "height": 376
        },
        "id": "P3HNgMMNS84q",
        "outputId": "42e0671f-60ab-4f2b-f04d-cee35bd5d16d"
      },
      "execution_count": 34,
      "outputs": [
        {
          "output_type": "stream",
          "name": "stderr",
          "text": [
            "/usr/local/lib/python3.10/dist-packages/ipykernel/ipkernel.py:283: DeprecationWarning: `should_run_async` will not call `transform_cell` automatically in the future. Please pass the result to `transformed_cell` argument and any exception that happen during thetransform in `preprocessing_exc_tuple` in IPython 7.17 and above.\n",
            "  and should_run_async(code)\n"
          ]
        },
        {
          "output_type": "stream",
          "name": "stdout",
          "text": [
            "Collecting pandas==1.5.3\n",
            "  Using cached pandas-1.5.3-cp310-cp310-manylinux_2_17_x86_64.manylinux2014_x86_64.whl (12.1 MB)\n",
            "Requirement already satisfied: python-dateutil>=2.8.1 in /usr/local/lib/python3.10/dist-packages (from pandas==1.5.3) (2.8.2)\n",
            "Requirement already satisfied: pytz>=2020.1 in /usr/local/lib/python3.10/dist-packages (from pandas==1.5.3) (2023.4)\n",
            "Requirement already satisfied: numpy>=1.21.0 in /usr/local/lib/python3.10/dist-packages (from pandas==1.5.3) (1.25.2)\n",
            "Requirement already satisfied: six>=1.5 in /usr/local/lib/python3.10/dist-packages (from python-dateutil>=2.8.1->pandas==1.5.3) (1.16.0)\n",
            "Installing collected packages: pandas\n",
            "\u001b[31mERROR: pip's dependency resolver does not currently take into account all the packages that are installed. This behaviour is the source of the following dependency conflicts.\n",
            "google-colab 1.0.0 requires pandas==2.0.3, but you have pandas 1.5.3 which is incompatible.\n",
            "pyldavis 3.4.1 requires pandas>=2.0.0, but you have pandas 1.5.3 which is incompatible.\u001b[0m\u001b[31m\n",
            "\u001b[0mSuccessfully installed pandas-1.5.3\n"
          ]
        },
        {
          "output_type": "display_data",
          "data": {
            "application/vnd.colab-display-data+json": {
              "pip_warning": {
                "packages": [
                  "pandas"
                ]
              },
              "id": "81f4cb069911458e8388784ea5b68db8"
            }
          },
          "metadata": {}
        }
      ]
    },
    {
      "cell_type": "code",
      "execution_count": 35,
      "metadata": {
        "colab": {
          "base_uri": "https://localhost:8080/",
          "height": 971
        },
        "id": "F22dx53VdANU",
        "outputId": "1c5deb4f-4d30-4faf-c364-391dade2dae3"
      },
      "outputs": [
        {
          "output_type": "stream",
          "name": "stderr",
          "text": [
            "/usr/local/lib/python3.10/dist-packages/ipykernel/ipkernel.py:283: DeprecationWarning: `should_run_async` will not call `transform_cell` automatically in the future. Please pass the result to `transformed_cell` argument and any exception that happen during thetransform in `preprocessing_exc_tuple` in IPython 7.17 and above.\n",
            "  and should_run_async(code)\n",
            "/usr/local/lib/python3.10/dist-packages/pandas/core/dtypes/cast.py:1641: DeprecationWarning: np.find_common_type is deprecated.  Please use `np.result_type` or `np.promote_types`.\n",
            "See https://numpy.org/devdocs/release/1.25.0-notes.html and the docs for more information.  (Deprecated NumPy 1.25)\n",
            "  return np.find_common_type(types, [])\n"
          ]
        },
        {
          "output_type": "execute_result",
          "data": {
            "text/plain": [
              "PreparedData(topic_coordinates=              x         y  topics  cluster       Freq\n",
              "topic                                                \n",
              "2     -0.149306  0.211154       1        1  34.393960\n",
              "1     -0.137844 -0.090919       2        1  32.373212\n",
              "0     -0.137167 -0.124690       3        1  21.238818\n",
              "3      0.424317  0.004456       4        1  11.994009, topic_info=         Term         Freq        Total Category  logprob  loglift\n",
              "2722    '날씨',  1911.000000  1911.000000  Default  30.0000  30.0000\n",
              "2721    '기온',  1083.000000  1083.000000  Default  29.0000  29.0000\n",
              "536     '지방',  1070.000000  1070.000000  Default  28.0000  28.0000\n",
              "1659    '인천',  1039.000000  1039.000000  Default  27.0000  27.0000\n",
              "442    '입니다',  1117.000000  1117.000000  Default  26.0000  26.0000\n",
              "...       ...          ...          ...      ...      ...      ...\n",
              "485     '광주',   633.204220   826.249828   Topic4  -3.7127   1.8547\n",
              "1452  '있습니다',   322.933771   372.770513   Topic4  -4.3860   1.9772\n",
              "734     '부산',   456.903071   630.100694   Topic4  -4.0390   1.7994\n",
              "20      '시간',   358.931327   651.277675   Topic4  -4.2803   1.5250\n",
              "622     '최고',   286.452981   480.910705   Topic4  -4.5059   1.6027\n",
              "\n",
              "[271 rows x 6 columns], token_table=      Topic      Freq    Term\n",
              "term                         \n",
              "2195      1  0.111468   '가상',\n",
              "2195      2  0.885877   '가상',\n",
              "148       2  0.795729   '가장',\n",
              "148       3  0.202382   '가장',\n",
              "2720      4  0.999457   '강릉',\n",
              "...     ...       ...     ...\n",
              "244       1  0.075944   '회의',\n",
              "244       3  0.917652   '회의',\n",
              "1445      3  0.994252   '후보',\n",
              "3141      4  0.998526   '흐린',\n",
              "1026      4  0.998391  ['오늘',\n",
              "\n",
              "[405 rows x 3 columns], R=30, lambda_step=0.01, plot_opts={'xlab': 'PC1', 'ylab': 'PC2'}, topic_order=[3, 2, 1, 4])"
            ],
            "text/html": [
              "\n",
              "<link rel=\"stylesheet\" type=\"text/css\" href=\"https://cdn.jsdelivr.net/gh/bmabey/pyLDAvis@3.4.0/pyLDAvis/js/ldavis.v1.0.0.css\">\n",
              "\n",
              "\n",
              "<div id=\"ldavis_el164411359326773681608338373424\" style=\"background-color:white;\"></div>\n",
              "<script type=\"text/javascript\">\n",
              "\n",
              "var ldavis_el164411359326773681608338373424_data = {\"mdsDat\": {\"x\": [-0.14930639264190418, -0.13784401082779266, -0.13716665425710928, 0.42431705772680595], \"y\": [0.21115368727730124, -0.09091888957088119, -0.12469043188045786, 0.004455634174037892], \"topics\": [1, 2, 3, 4], \"cluster\": [1, 1, 1, 1], \"Freq\": [34.393960424681666, 32.373212266866545, 21.238818492493294, 11.994008815958487]}, \"tinfo\": {\"Term\": [\"'\\ub0a0\\uc528',\", \"'\\uae30\\uc628',\", \"'\\uc9c0\\ubc29',\", \"'\\uc778\\ucc9c',\", \"'\\uc785\\ub2c8\\ub2e4',\", \"'\\uc218\\uc6d0',\", \"'\\uc544\\uce68',\", \"'\\uc624\\ud6c4',\", \"'\\ud604\\uc7ac',\", \"'\\ub300\\uc804',\", \"['\\uc624\\ub298',\", \"'\\ucd98\\ucc9c',\", \"'\\uad11\\uc8fc',\", \"'\\uac15\\ub989',\", \"'\\uccad\\uc8fc',\", \"'\\uc81c\\uc8fc',\", \"'\\uc804\\uc8fc',\", \"'\\ubcf4\\uc774',\", \"'\\ub300\\uad6c',\", \"'\\uc0ac\\uc5c5',\", \"'\\ubd80\\uc0b0',\", \"'\\ub300\\ud1b5\\ub839',\", \"'\\ubbf8\\uad6d',\", \"'\\uc2dc\\uac04',\", \"'\\uc624\\uc804',\", \"'\\ucd5c\\uc800',\", \"'\\ub300\\ubd80\\ubd84',\", \"'\\ub3c4\\ub85c',\", \"'\\uc788\\uc2b5\\ub2c8\\ub2e4',\", \"'\\uc608\\uc0c1',\", \"'\\uc591\\uc131',\", \"'\\ud611\\uc57d',\", \"'\\uc778\\uc7ac',\", \"'\\uad6c\\ucd95',\", \"'\\ucd1d\\uc7a5',\", \"'\\uccb4\\uacb0',\", \"'\\uc778\\ub825',\", \"'\\ubaa8\\uc9d1',\", \"'\\uc870\\uc131',\", \"'\\uc8fc\\uad00',\", \"'\\ub300\\ud559\\uad50',\", \"'\\uc7ac\\ub2e8',\", \"'\\uc2dc\\ud2f0',\", \"'\\ucea0\\ud37c\\uc2a4',\", \"'\\uc6b0\\uc218',\", \"'\\uc0b0\\ud559',\", \"'\\uc120\\ub3c4',\", \"'\\ubd80\\uc0b0\\uc2dc',\", \"'\\ube14\\ub85d',\", \"'\\uc138\\uc885',\", \"'\\uc721\\uc131',\", \"'\\ubca4\\ucc98\\uae30\\uc5c5',\", \"'\\uc2dc\\uc124',\", \"'\\uc911\\uc18c',\", \"'\\uc5f0\\uad6c\\uac1c\\ubc1c',\", \"'\\uc6d0\\uc7a5',\", \"'\\ud574\\uc591',\", \"'\\uc13c\\ud130',\", \"'\\ub300\\uad6c\\uc2dc',\", \"'\\uc120\\ubc1c',\", \"'\\uc0ac\\uc5c5',\", \"'\\uc735\\ud569',\", \"'\\ubc14\\uc774\\uc624',\", \"'\\ub300\\ud559',\", \"'\\uc2a4\\ucf00',\", \"'\\uc548\\uc804',\", \"'\\ud559\\uad50',\", \"'\\uc2a4\\ub9c8\\ud2b8',\", \"'\\uc758\\ub8cc',\", \"'\\ud559\\uacfc',\", \"'\\ub3c4\\uc2dc',\", \"'\\uc120\\uc815',\", \"'\\ube45\\ub370\\uc774\\ud130',\", \"'\\uad50\\uc721',\", \"'\\uc0b0\\uc5c5',\", \"'\\uc9c0\\uc6d0',\", \"'\\ud559\\uc0dd',\", \"'\\uae30\\uad00',\", \"'\\uc815\\ubcf4\\ud1b5\\uc2e0\\ubd80',\", \"'\\ub514\\uc9c0\\ud138',\", \"'\\uae30\\ubc18',\", \"'\\uc9c0\\uc5ed',\", \"'\\uc5f0\\uad6c',\", \"'\\ubd84\\uc57c',\", \"'\\ud601\\uc2e0',\", \"'\\uacfc\\ud559\\uae30\\uc220',\", \"'\\uc5c5\\ubb34',\", \"'\\uac1c\\ubc1c',\", \"'\\ud55c\\uad6d',\", \"'\\ubbf8\\ub798',\", \"'\\ub370\\uc774\\ud130',\", \"'\\uc704\\ud574',\", \"'\\uae30\\uc5c5',\", \"'\\ud50c\\ub7ab\\ud3fc',\", \"'\\uc11c\\ube44\\uc2a4',\", \"'\\ud65c\\uc6a9',\", \"'\\uc778\\uac04',\", \"'\\ub17c\\ubb38',\", \"'\\uc138\\uc0c1',\", \"'\\uc218\\ud559',\", \"'\\uc5b8\\uc5b4',\", \"'\\uc774\\ubbf8\\uc9c0',\", \"'\\uc2a4\\ub9c8\\ud2b8\\ud3f0',\", \"'\\uc774\\uc57c\\uae30',\", \"'\\ubc1c\\uba85',\", \"'\\ubc14\\ub451',\", \"'\\ub808\\ub4dc',\", \"'\\uc2a4\\ucf00\\uc77c',\", \"'\\ucfe0\\ud321',\", \"'\\uc791\\uac00',\", \"'\\uc874\\uc7ac',\", \"'\\uadf8\\ub9bc',\", \"'\\uc5b4\\ub5a4',\", \"'\\uc9c0\\uc74c',\", \"'\\uc774\\uc81c',\", \"'\\uce74\\uba54\\ub77c',\", \"'\\ud2b9\\ud5c8\\uccad',\", \"'\\uc694\\uc998',\", \"'\\uc218\\ub9ce\\uc740',\", \"'\\uc791\\ud488',\", \"'\\ud45c\\uc808',\", \"'\\uc21c\\uac04',\", \"'\\ubc14\\uafc0',\", \"'\\uc720\\ub8cc',\", \"'\\uc77c\\uae4c',\", \"'\\ud654\\uc81c',\", \"'\\ub4f1\\uc7a5',\", \"'\\uc0ac\\ub78c',\", \"'\\uc9c8\\ubb38',\", \"'\\uc601\\ud654',\", \"'\\ud569\\ub2c8\\ub2e4',\", \"'\\uc9c0\\uae08',\", \"'\\uc544\\uc774',\", \"'\\uc774\\uc5c8\\ub2e4',\", \"'\\uac70\\ub300',\", \"'\\ub300\\ud654',\", \"'\\uc790\\uc2e0',\", \"'\\uc0dd\\uac01',\", \"'\\ub85c\\ubd07',\", \"'\\uc6b0\\ub9ac',\", \"'\\uc2a4\\ud0c0\\ud2b8\\uc5c5',\", \"'\\uac00\\uc0c1',\", \"'\\ucd9c\\uc2dc',\", \"'\\ucc57\\ubd07',\", \"'\\uc2dc\\ub300',\", \"'\\uc788\\ub294',\", \"'\\uc788\\ub2e4',\", \"'\\uac00\\uc7a5',\", \"'\\uc138\\uacc4',\", \"'\\uacf5\\uac1c',\", \"'\\uacfc\\ud559',\", \"'\\uac19\\uc740',\", \"'\\ucd5c\\uadfc',\", \"'\\uc11c\\ube44\\uc2a4',\", \"'\\ud55c\\ub2e4',\", \"'\\ubb38\\uc81c',\", \"'\\uc774\\uc6a9',\", \"'\\ubaa8\\ub378',\", \"'\\uac1c\\ubc1c',\", \"'\\uc9c0\\ub09c',\", \"'\\uad6d\\ub0b4',\", \"'\\uc2dc\\uc791',\", \"'\\ubbf8\\ub798',\", \"'\\ud65c\\uc6a9',\", \"'\\uad50\\uc218',\", \"'\\uae30\\uc5c5',\", \"'\\ub300\\ud1b5\\ub839',\", \"'\\uc724\\uc11d\\uc5f4',\", \"'\\uad50\\uc721\\uac10',\", \"'\\ud6c4\\ubcf4',\", \"'\\ubc14\\uc774\\ub4e0',\", \"'\\uc548\\ubcf4',\", \"'\\ub7ec\\uc2dc\\uc544',\", \"'\\uaddc\\uc81c',\", \"'\\uad6d\\ud68c',\", \"'\\uc6b0\\ud06c\\ub77c\\uc774\\ub098',\", \"'\\uc815\\uc0c1',\", \"'\\uc6b4\\ud56d',\", \"'\\uba38\\uc2a4\\ud06c',\", \"'\\ud55c\\ubbf8',\", \"'\\uc120\\uac70',\", \"'\\ubcf4\\ub3c4',\", \"'\\ub3d9\\ub9f9',\", \"'\\ub300\\ud1b5\\ub839\\uc2e4',\", \"'\\uc6a9\\uc0b0',\", \"'\\ud14c\\uc2ac\\ub77c',\", \"'\\ubcf4\\uc218',\", \"'\\ubd81\\ud55c',\", \"'\\uc815\\uc0c1\\ud68c\\ub2f4',\", \"'\\uc870\\ud76c\\uc5f0',\", \"'\\uc218\\ucd9c',\", \"'\\ub2ec\\ub7ec',\", \"'\\uc9c0\\ubc29\\uc120\\uac70',\", \"'\\uc678\\uad50',\", \"'\\ud53c\\ud574',\", \"'\\ubbfc\\uc8fc\\ub2f9',\", \"'\\uce90\\ub098\\ub2e4',\", \"'\\uc911\\uad6d',\", \"'\\uc0bc\\uc131',\", \"'\\uc804\\uc7c1',\", \"'\\uc778\\uad8c',\", \"'\\ud604\\uc9c0',\", \"'\\ud68c\\uc758',\", \"'\\ubbf8\\uad6d',\", \"'\\uc7a5\\uad00',\", \"'\\ubc18\\ub3c4\\uccb4',\", \"'\\uc704\\uc6d0\\uc7a5',\", \"'\\uc608\\uc0b0',\", \"'\\uc815\\ubd80',\", \"'\\uacbd\\uc81c',\", \"'\\uc11c\\uc6b8\\uc2dc',\", \"'\\uc704\\uc6d0\\ud68c',\", \"'\\uc804\\uae30\\ucc28',\", \"'\\uc815\\ucc45',\", \"'\\ud22c\\uc790',\", \"'\\uadf8\\ub8f9',\", \"'\\uc804\\ub7b5',\", \"'\\uc2dc\\uc7a5',\", \"'\\uc804\\uc790',\", \"'\\uad6d\\ubbfc',\", \"'\\uc138\\uacc4',\", \"'\\uad6d\\uac00',\", \"'\\ubc1c\\ud45c',\", \"'\\uc788\\ub2e4',\", \"'\\uae30\\uc5c5',\", \"'\\ud55c\\uad6d',\", \"'\\uc2dc\\uac04',\", \"'\\uc9c0\\ub09c',\", \"'\\ub0a0\\uc528',\", \"'\\uae30\\uc628',\", \"'\\uc9c0\\ubc29',\", \"'\\uc778\\ucc9c',\", \"'\\uc218\\uc6d0',\", \"'\\uc544\\uce68',\", \"['\\uc624\\ub298',\", \"'\\ucd98\\ucc9c',\", \"'\\ub300\\uc804',\", \"'\\uac15\\ub989',\", \"'\\uccad\\uc8fc',\", \"'\\uc81c\\uc8fc',\", \"'\\uc804\\uc8fc',\", \"'\\ubcf4\\uc774',\", \"'\\ucd5c\\uc800',\", \"'\\ub3c4\\ub85c',\", \"'\\ub429\\ub2c8\\ub2e4',\", \"'\\ub9d1\\uc740',\", \"'\\uad6c\\ub984',\", \"'\\ud750\\ub9b0',\", \"'\\uc218\\uc6d0']\", \"'\\ubc1c\\ud6a8',\", \"'\\uc8fc\\uc758\\ubcf4',\", \"'\\ub9ce\\uc2b5\\ub2c8\\ub2e4',\", \"'\\ucd98\\ucc9c']\", \"'\\ud1a0\\uc694\\uc77c',\", \"'\\uc218\\uc694\\uc77c',\", \"'\\ud654\\uc694\\uc77c',\", \"'\\uae08\\uc694\\uc77c',\", \"'\\uc77c\\uc694\\uc77c',\", \"'\\uc624\\ud6c4',\", \"'\\ub300\\ubd80\\ubd84',\", \"'\\uc608\\uc0c1',\", \"'\\uc785\\ub2c8\\ub2e4',\", \"'\\ud604\\uc7ac',\", \"'\\ub300\\uad6c',\", \"'\\uc788\\uace0',\", \"'\\uc624\\uc804',\", \"'\\uad11\\uc8fc',\", \"'\\uc788\\uc2b5\\ub2c8\\ub2e4',\", \"'\\ubd80\\uc0b0',\", \"'\\uc2dc\\uac04',\", \"'\\ucd5c\\uace0',\"], \"Freq\": [1911.0, 1083.0, 1070.0, 1039.0, 1117.0, 776.0, 774.0, 804.0, 839.0, 689.0, 686.0, 664.0, 826.0, 644.0, 643.0, 631.0, 584.0, 549.0, 621.0, 1060.0, 630.0, 506.0, 742.0, 651.0, 423.0, 348.0, 362.0, 331.0, 372.0, 354.0, 348.67424893873994, 332.23455339796, 436.19996093623246, 382.00969306077764, 288.8276175817876, 219.12397835033752, 180.3458925730549, 165.2097425783298, 137.78664841982132, 133.93514420007824, 162.31293813791928, 121.33820727315387, 113.64985854729893, 114.29595966502309, 97.91730152612529, 95.45362971155477, 142.7039129546524, 79.97422767426906, 107.247174500016, 80.96758129982119, 182.69530867506552, 73.2292354171401, 82.04371511575395, 72.29974636210603, 72.9274514009114, 72.95398262510871, 75.34025149806702, 480.6486975709674, 69.34728176858181, 67.50192861976511, 1042.346752186312, 324.8760871943782, 182.2972537219485, 566.2250226751529, 95.48375442728012, 211.13783741450547, 405.7164155990285, 432.3023994118205, 200.01108879136356, 255.3901009823223, 264.0337036645165, 430.0243162813952, 244.78297989314933, 867.9776586308661, 803.210160588539, 547.64305200666, 321.0925822251644, 223.7056021174348, 187.7100217729242, 681.6564910269707, 435.40585992164785, 358.07766293322715, 402.6736028353754, 485.35459553182443, 491.78568115070243, 318.9655123290737, 263.85323245866783, 637.4945409932197, 569.0773717288046, 493.53878547543746, 347.46281800202286, 390.1753527107281, 503.3908057568746, 325.45215419287655, 389.5925663160231, 334.2324654154191, 406.00227749985663, 209.42523253782238, 165.1721373583085, 139.887171668504, 113.96104848178592, 107.4360950701067, 98.01746071391844, 92.31350056471393, 84.52193773456385, 100.46465342326002, 81.58871981753101, 79.36734671192397, 79.71759652788701, 71.31056586015026, 71.88895810754713, 68.84430151285659, 93.96897579086453, 62.23482977401358, 61.686760615933295, 60.15773686962322, 59.1646750514029, 57.468138751746885, 56.67759083267818, 57.041639060202286, 56.520176467119704, 55.18170609487803, 55.25446765377434, 55.77344033856873, 53.103048338142884, 55.62085908467932, 122.47347032488959, 374.69698252820376, 118.38231872462234, 122.87967176245141, 129.90274538640347, 120.13934634773155, 160.21414721202783, 78.86987037118884, 95.6338238305386, 196.3022992717072, 84.26716021217811, 113.58440808304987, 463.95475842799686, 252.46101929799886, 417.45686625933985, 151.00435544168766, 196.7928152796171, 184.69662075822566, 327.67424540332314, 514.6356965208142, 677.3910661375056, 173.08396561137363, 452.95906261862257, 214.52577095238607, 176.37305703248356, 176.69438968115855, 235.76578893745767, 336.6844043958861, 317.6287409781401, 164.3231723601707, 152.68324640110168, 160.36807326090104, 316.94177079877835, 235.8165325348465, 225.10376528951886, 178.34710196488788, 229.8683657668562, 211.14295139604144, 198.0103682071334, 227.12848861713093, 505.8708277254838, 247.14623711490555, 204.55674363897873, 198.39998721261017, 96.0360941930387, 93.47850019913646, 92.37900149411688, 158.10343934513708, 81.12759521483912, 75.1524630602718, 74.7400855441575, 70.87159068402232, 68.86918402315278, 68.12675263707048, 67.39518117079353, 66.1127588534938, 64.54469016695647, 61.90148407260939, 59.67461233369516, 59.4566974288467, 59.04357132150997, 55.59506821963723, 54.53777401832204, 53.52961948367902, 72.37998595597192, 51.672813815571494, 50.76403476570564, 50.2442451033334, 48.42692227512873, 47.45869973512202, 74.72842890940827, 284.27221241307234, 192.2432307862416, 98.84870113394082, 72.40414406413566, 229.16524705877808, 144.99576745284799, 583.7277797658186, 185.1760163268369, 401.06313727197926, 70.91896046716147, 99.46147652029879, 405.1353879686987, 221.1132287637899, 150.77131984043615, 154.88468958358746, 124.33500262115786, 211.16740300598565, 326.16008341869946, 196.07452066262218, 179.5240456559111, 218.322459298262, 220.517179044173, 117.18390316820005, 263.7717637387451, 156.04699509216863, 163.93096535188232, 269.2948056128484, 237.42417596764503, 227.93571805842294, 184.81438260144282, 155.8495381160131, 1911.109253471341, 1082.6138774189687, 1069.9335489718555, 1038.9296536016193, 776.2186012973845, 773.3906046452598, 685.3706461817452, 663.8273547755714, 688.3618466588413, 643.6181024502475, 642.4461076645291, 631.0604909111945, 583.708964092578, 549.2342577152009, 348.166952095441, 331.02182984277096, 305.6833489567334, 264.74064019094646, 264.8097288439095, 234.61533024318067, 205.2131562487185, 168.7097074751381, 152.9554895792182, 128.98307978585885, 103.85703442924682, 103.14545753903508, 101.86340404600917, 100.89982870980191, 99.24768590364421, 98.48509573969307, 749.5534250194834, 345.96901497009327, 331.26656310961306, 977.5372833236944, 727.6570567770482, 536.3740088879238, 240.55045619952355, 361.21485150181485, 633.2042200165251, 322.93377101299296, 456.90307067930627, 358.9313265801566, 286.45298138503466], \"Total\": [1911.0, 1083.0, 1070.0, 1039.0, 1117.0, 776.0, 774.0, 804.0, 839.0, 689.0, 686.0, 664.0, 826.0, 644.0, 643.0, 631.0, 584.0, 549.0, 621.0, 1060.0, 630.0, 506.0, 742.0, 651.0, 423.0, 348.0, 362.0, 331.0, 372.0, 354.0, 349.4108074364957, 332.9695588505733, 437.1718873200386, 382.97460861404915, 289.61989038798896, 219.86191528893664, 181.10168482380016, 165.9458495543992, 138.53098466774483, 134.6667018287267, 163.27474086688557, 122.0831509811679, 114.38569310002168, 115.04203870346124, 98.65577353351271, 96.18319113588538, 143.93976210327335, 80.70855378460693, 108.24601771067825, 81.73800050194313, 184.52872141293918, 73.97532905498318, 82.8825918472575, 73.04453464892539, 73.68075703739757, 73.71297192680665, 76.12448398114661, 485.6660912167493, 70.08252489734427, 68.24894726097186, 1060.623679542885, 330.4498593967492, 184.68956746701102, 581.7145362396342, 96.58426498015977, 215.61329207410068, 420.7440639880727, 449.0250220893228, 204.8003649113259, 263.6862299246008, 272.90744146632613, 452.49509339746936, 255.71227686357872, 979.3013010498538, 926.7327013632253, 613.943371330794, 346.97880706189505, 235.53112420469375, 196.99335991508985, 874.7243870664164, 538.5252848808643, 429.03559268779867, 497.9918828815849, 632.4953327027388, 646.3863212388959, 375.8502248105079, 295.81983774225, 1074.3729448767078, 939.9125840371773, 799.5076357332023, 465.7717468028129, 584.5084961441746, 968.1811255035506, 433.65748078299333, 750.6363698896232, 602.0156446396892, 406.73510279833806, 210.20928854273552, 165.92723684148095, 140.73762482179126, 114.71473265054625, 108.17196199728312, 98.75078558294793, 93.04382057850371, 85.25432602323063, 101.35625229863739, 82.3142207437738, 80.09667337337069, 80.45028063030333, 72.03373190309503, 72.62389476229148, 69.5715813333571, 95.02180457903583, 62.959741828576796, 62.421662201103615, 60.89544536550104, 59.891434924420686, 58.19721871196144, 57.41217556719948, 57.782006607598646, 57.25562136180197, 55.903695967249334, 55.9883093943558, 56.52910352603305, 53.82666985877467, 56.38038392741869, 124.25053539485222, 385.8893070592698, 123.59108304249705, 128.89521276662634, 137.75017503966458, 126.99085431361576, 173.99725108640249, 81.6766234133592, 100.59659580056196, 219.21479056527923, 87.86291512602207, 122.562568654291, 589.5629287870856, 299.5591889057061, 534.8039465687929, 170.45259257024856, 232.15435945986763, 217.86868570993613, 446.1405554761415, 779.1175527033427, 1251.7555905333086, 217.41077527803114, 785.2515081825675, 321.71184142699815, 242.26309362484756, 243.19776665835744, 411.4542321360229, 750.6363698896232, 690.6505247096163, 233.73888881731244, 202.39609353772366, 233.53458121393015, 1074.3729448767078, 583.4392391773489, 544.2279809471095, 320.02303583124547, 799.5076357332023, 602.0156446396892, 509.84253829351235, 968.1811255035506, 506.603499604707, 247.87846624954992, 205.29046435423578, 199.14470431324105, 96.76440098772107, 94.21121879642877, 93.11506971753043, 159.48580695039274, 81.86538739476912, 75.8888524339651, 75.47570583296807, 71.60675403323975, 69.60609327069015, 68.86550172875384, 68.12823927680387, 66.85912231799239, 65.27808488318607, 62.63097845692931, 60.414957176386054, 60.19616349338856, 59.79008504789802, 56.33005955279288, 55.26566206111419, 54.26037381006607, 73.4183695972892, 52.415509763788855, 51.49692637330861, 50.976641558047284, 49.16911819676941, 48.19054475538765, 75.94556545752133, 296.40747843530113, 202.14673868706745, 103.06106757755484, 74.56989790058694, 250.92511310524856, 158.011960920057, 742.6498698688971, 214.32575631989224, 511.92454076781524, 73.41399537583129, 107.86623089097215, 549.6970677907996, 283.33445395959336, 180.15026142366153, 189.49772777756337, 145.24156750095187, 295.19338632513177, 565.4800658434888, 322.884179414839, 288.6479250133106, 403.75863247220843, 439.0829380571753, 160.91198195079997, 785.2515081825675, 300.13708603372766, 335.2676216108956, 1251.7555905333086, 968.1811255035506, 939.9125840371773, 651.2776751321555, 583.4392391773489, 1911.8412073847612, 1083.345261748127, 1070.6738323460397, 1039.6677677662485, 776.954212131199, 774.130095749076, 686.1037552199573, 664.5597736459986, 689.1412745817922, 644.3497561770024, 643.1790444517225, 631.8061164369544, 584.4429592353379, 549.9721942371054, 348.9040138753787, 331.7904418172922, 306.41923736223316, 265.4727881172011, 265.54270926560145, 235.34692471038693, 205.9444643147969, 169.444706426962, 153.6867940750872, 129.71769611915124, 104.58883047914048, 103.8813287083441, 102.6017819140272, 101.63236261351442, 99.97982088103872, 99.21711967558683, 804.9381470904248, 362.77218425844205, 354.9001221119865, 1117.3834644380577, 839.462631157287, 621.8679463969748, 263.1517851409092, 423.8469178327883, 826.2498279439469, 372.7705127244757, 630.100694114934, 651.2776751321555, 480.9107047796406], \"Category\": [\"Default\", \"Default\", \"Default\", \"Default\", \"Default\", \"Default\", \"Default\", \"Default\", \"Default\", \"Default\", \"Default\", \"Default\", \"Default\", \"Default\", \"Default\", \"Default\", \"Default\", \"Default\", \"Default\", \"Default\", \"Default\", \"Default\", \"Default\", \"Default\", \"Default\", \"Default\", \"Default\", \"Default\", \"Default\", \"Default\", \"Topic1\", \"Topic1\", \"Topic1\", \"Topic1\", \"Topic1\", \"Topic1\", \"Topic1\", \"Topic1\", \"Topic1\", \"Topic1\", \"Topic1\", \"Topic1\", \"Topic1\", \"Topic1\", \"Topic1\", \"Topic1\", \"Topic1\", \"Topic1\", \"Topic1\", \"Topic1\", \"Topic1\", \"Topic1\", \"Topic1\", \"Topic1\", \"Topic1\", \"Topic1\", \"Topic1\", \"Topic1\", \"Topic1\", \"Topic1\", \"Topic1\", \"Topic1\", \"Topic1\", \"Topic1\", \"Topic1\", \"Topic1\", \"Topic1\", \"Topic1\", \"Topic1\", \"Topic1\", \"Topic1\", \"Topic1\", \"Topic1\", \"Topic1\", \"Topic1\", \"Topic1\", \"Topic1\", \"Topic1\", \"Topic1\", \"Topic1\", \"Topic1\", \"Topic1\", \"Topic1\", \"Topic1\", \"Topic1\", \"Topic1\", \"Topic1\", \"Topic1\", \"Topic1\", \"Topic1\", \"Topic1\", \"Topic1\", \"Topic1\", \"Topic1\", \"Topic1\", \"Topic1\", \"Topic2\", \"Topic2\", \"Topic2\", \"Topic2\", \"Topic2\", \"Topic2\", \"Topic2\", \"Topic2\", \"Topic2\", \"Topic2\", \"Topic2\", \"Topic2\", \"Topic2\", \"Topic2\", \"Topic2\", \"Topic2\", \"Topic2\", \"Topic2\", \"Topic2\", \"Topic2\", \"Topic2\", \"Topic2\", \"Topic2\", \"Topic2\", \"Topic2\", \"Topic2\", \"Topic2\", \"Topic2\", \"Topic2\", \"Topic2\", \"Topic2\", \"Topic2\", \"Topic2\", \"Topic2\", \"Topic2\", \"Topic2\", \"Topic2\", \"Topic2\", \"Topic2\", \"Topic2\", \"Topic2\", \"Topic2\", \"Topic2\", \"Topic2\", \"Topic2\", \"Topic2\", \"Topic2\", \"Topic2\", \"Topic2\", \"Topic2\", \"Topic2\", \"Topic2\", \"Topic2\", \"Topic2\", \"Topic2\", \"Topic2\", \"Topic2\", \"Topic2\", \"Topic2\", \"Topic2\", \"Topic2\", \"Topic2\", \"Topic2\", \"Topic2\", \"Topic2\", \"Topic2\", \"Topic2\", \"Topic2\", \"Topic2\", \"Topic2\", \"Topic3\", \"Topic3\", \"Topic3\", \"Topic3\", \"Topic3\", \"Topic3\", \"Topic3\", \"Topic3\", \"Topic3\", \"Topic3\", \"Topic3\", \"Topic3\", \"Topic3\", \"Topic3\", \"Topic3\", \"Topic3\", \"Topic3\", \"Topic3\", \"Topic3\", \"Topic3\", \"Topic3\", \"Topic3\", \"Topic3\", \"Topic3\", \"Topic3\", \"Topic3\", \"Topic3\", \"Topic3\", \"Topic3\", \"Topic3\", \"Topic3\", \"Topic3\", \"Topic3\", \"Topic3\", \"Topic3\", \"Topic3\", \"Topic3\", \"Topic3\", \"Topic3\", \"Topic3\", \"Topic3\", \"Topic3\", \"Topic3\", \"Topic3\", \"Topic3\", \"Topic3\", \"Topic3\", \"Topic3\", \"Topic3\", \"Topic3\", \"Topic3\", \"Topic3\", \"Topic3\", \"Topic3\", \"Topic3\", \"Topic3\", \"Topic3\", \"Topic3\", \"Topic3\", \"Topic3\", \"Topic3\", \"Topic3\", \"Topic4\", \"Topic4\", \"Topic4\", \"Topic4\", \"Topic4\", \"Topic4\", \"Topic4\", \"Topic4\", \"Topic4\", \"Topic4\", \"Topic4\", \"Topic4\", \"Topic4\", \"Topic4\", \"Topic4\", \"Topic4\", \"Topic4\", \"Topic4\", \"Topic4\", \"Topic4\", \"Topic4\", \"Topic4\", \"Topic4\", \"Topic4\", \"Topic4\", \"Topic4\", \"Topic4\", \"Topic4\", \"Topic4\", \"Topic4\", \"Topic4\", \"Topic4\", \"Topic4\", \"Topic4\", \"Topic4\", \"Topic4\", \"Topic4\", \"Topic4\", \"Topic4\", \"Topic4\", \"Topic4\", \"Topic4\", \"Topic4\"], \"logprob\": [30.0, 29.0, 28.0, 27.0, 26.0, 25.0, 24.0, 23.0, 22.0, 21.0, 20.0, 19.0, 18.0, 17.0, 16.0, 15.0, 14.0, 13.0, 12.0, 11.0, 10.0, 9.0, 8.0, 7.0, 6.0, 5.0, 4.0, 3.0, 2.0, 1.0, -5.3628, -5.4111, -5.1388, -5.2715, -5.5511, -5.8273, -6.0221, -6.1097, -6.2912, -6.3196, -6.1274, -6.4184, -6.4838, -6.4782, -6.6328, -6.6583, -6.2562, -6.8352, -6.5418, -6.8229, -6.0091, -6.9234, -6.8097, -6.9361, -6.9275, -6.9271, -6.8949, -5.0418, -6.9778, -7.0048, -4.2677, -5.4335, -6.0113, -4.878, -6.658, -5.8644, -5.2113, -5.1478, -5.9186, -5.6742, -5.6409, -5.1531, -5.7166, -4.4508, -4.5283, -4.9113, -5.4452, -5.8066, -5.982, -4.6924, -5.1407, -5.3362, -5.2188, -5.0321, -5.0189, -5.4519, -5.6416, -4.7594, -4.8729, -5.0153, -5.3663, -5.2504, -4.9956, -5.4317, -5.2518, -5.4051, -5.15, -5.812, -6.0494, -6.2156, -6.4205, -6.4795, -6.5713, -6.6312, -6.7194, -6.5466, -6.7547, -6.7823, -6.7779, -6.8894, -6.8813, -6.9246, -6.6134, -7.0255, -7.0343, -7.0594, -7.0761, -7.1052, -7.119, -7.1126, -7.1218, -7.1458, -7.1444, -7.1351, -7.1842, -7.1378, -6.3485, -5.2303, -6.3825, -6.3452, -6.2896, -6.3677, -6.0799, -6.7886, -6.5959, -5.8767, -6.7224, -6.4239, -5.0166, -5.6251, -5.1222, -6.1391, -5.8742, -5.9377, -5.3644, -4.9129, -4.6381, -6.0026, -5.0406, -5.788, -5.9838, -5.982, -5.6936, -5.3373, -5.3955, -6.0546, -6.128, -6.0789, -5.3977, -5.6933, -5.7398, -5.9727, -5.7189, -5.8039, -5.8681, -5.7309, -4.5086, -5.2249, -5.4141, -5.4446, -6.1702, -6.1972, -6.209, -5.6716, -6.3389, -6.4154, -6.4209, -6.474, -6.5027, -6.5135, -6.5243, -6.5435, -6.5675, -6.6094, -6.646, -6.6496, -6.6566, -6.7168, -6.736, -6.7547, -6.453, -6.79, -6.8077, -6.818, -6.8548, -6.875, -6.421, -5.085, -5.4761, -6.1413, -6.4526, -5.3005, -5.7582, -4.3655, -5.5136, -4.7408, -6.4734, -6.1351, -4.7307, -5.3362, -5.7191, -5.6922, -5.9119, -5.3822, -4.9475, -5.4564, -5.5446, -5.3489, -5.3389, -5.9712, -5.1598, -5.6847, -5.6355, -5.1391, -5.265, -5.3058, -5.5155, -5.686, -2.608, -3.1763, -3.1881, -3.2175, -3.509, -3.5127, -3.6335, -3.6655, -3.6292, -3.6964, -3.6982, -3.7161, -3.7941, -3.8549, -4.3108, -4.3613, -4.4409, -4.5847, -4.5845, -4.7055, -4.8394, -5.0353, -5.1333, -5.3038, -5.5205, -5.5273, -5.5398, -5.5493, -5.5659, -5.5736, -3.544, -4.3171, -4.3606, -3.2784, -3.5736, -3.8786, -4.6805, -4.274, -3.7127, -4.386, -4.039, -4.2803, -4.5059], \"loglift\": [30.0, 29.0, 28.0, 27.0, 26.0, 25.0, 24.0, 23.0, 22.0, 21.0, 20.0, 19.0, 18.0, 17.0, 16.0, 15.0, 14.0, 13.0, 12.0, 11.0, 10.0, 9.0, 8.0, 7.0, 6.0, 5.0, 4.0, 3.0, 2.0, 1.0, 1.0652, 1.0651, 1.0651, 1.0648, 1.0645, 1.0639, 1.0631, 1.0628, 1.0619, 1.0618, 1.0614, 1.0612, 1.0608, 1.0608, 1.0598, 1.0597, 1.0587, 1.0581, 1.058, 1.0578, 1.0573, 1.0572, 1.0571, 1.057, 1.057, 1.0569, 1.0569, 1.0569, 1.0567, 1.0563, 1.0499, 1.0503, 1.0543, 1.0403, 1.0558, 1.0463, 1.0309, 1.0293, 1.0436, 1.0353, 1.0342, 1.0164, 1.0236, 0.9466, 0.9242, 0.953, 0.9898, 1.0158, 1.019, 0.8179, 0.8547, 0.8865, 0.8548, 0.8025, 0.7939, 0.9032, 0.9529, 0.5453, 0.5655, 0.5849, 0.7743, 0.6631, 0.4132, 0.7802, 0.4115, 0.4788, 1.126, 1.1241, 1.1233, 1.1218, 1.1212, 1.121, 1.1204, 1.12, 1.1192, 1.119, 1.119, 1.1187, 1.1187, 1.1177, 1.1177, 1.1173, 1.1167, 1.1163, 1.116, 1.1157, 1.1156, 1.1152, 1.115, 1.1149, 1.1149, 1.1148, 1.1146, 1.1144, 1.1143, 1.1143, 1.1134, 1.0984, 1.0848, 1.08, 1.0692, 1.0724, 1.0453, 1.0929, 1.0772, 1.0174, 1.0861, 1.0518, 0.8882, 0.9568, 0.8801, 1.0067, 0.9626, 0.9627, 0.8192, 0.7131, 0.5138, 0.8998, 0.5776, 0.7226, 0.8104, 0.8084, 0.571, 0.3261, 0.3511, 0.7755, 0.846, 0.752, -0.0929, 0.222, 0.245, 0.5432, -0.1187, 0.0801, 0.1821, -0.3221, 1.5479, 1.5464, 1.5458, 1.5456, 1.5418, 1.5415, 1.5414, 1.5406, 1.5403, 1.5396, 1.5395, 1.539, 1.5387, 1.5386, 1.5385, 1.5381, 1.538, 1.5376, 1.537, 1.537, 1.5368, 1.5362, 1.5361, 1.5358, 1.5351, 1.5351, 1.535, 1.5349, 1.5341, 1.534, 1.5332, 1.5075, 1.4991, 1.5076, 1.5199, 1.4586, 1.4634, 1.3085, 1.4031, 1.3053, 1.5148, 1.4682, 1.2442, 1.3014, 1.3713, 1.3476, 1.3939, 1.2144, 0.9991, 1.0505, 1.0744, 0.9345, 0.8606, 1.2322, 0.4584, 0.8953, 0.8339, 0.0128, 0.1438, 0.1326, 0.2898, 0.2293, 2.1204, 2.1201, 2.1201, 2.1201, 2.1198, 2.1198, 2.1197, 2.1197, 2.1196, 2.1196, 2.1196, 2.1196, 2.1195, 2.1194, 2.1186, 2.1184, 2.1184, 2.118, 2.118, 2.1176, 2.1172, 2.1164, 2.116, 2.1151, 2.1137, 2.1137, 2.1135, 2.1135, 2.1134, 2.1134, 2.0495, 2.0733, 2.0518, 1.9871, 1.9778, 1.9729, 2.031, 1.9609, 1.8547, 1.9772, 1.7994, 1.525, 1.6027]}, \"token.table\": {\"Topic\": [1, 2, 2, 3, 4, 1, 2, 3, 1, 2, 3, 2, 3, 1, 2, 3, 1, 2, 3, 1, 2, 1, 2, 3, 1, 3, 4, 1, 2, 1, 2, 3, 3, 4, 1, 1, 2, 3, 1, 2, 3, 1, 2, 3, 3, 1, 3, 1, 3, 2, 4, 1, 2, 3, 1, 2, 3, 1, 2, 3, 4, 4, 2, 3, 1, 4, 1, 2, 4, 4, 3, 3, 1, 2, 1, 2, 3, 1, 2, 3, 4, 1, 2, 3, 4, 2, 3, 1, 2, 3, 3, 2, 1, 2, 4, 4, 3, 1, 2, 3, 1, 1, 2, 3, 1, 2, 3, 1, 2, 3, 3, 2, 2, 3, 1, 2, 1, 2, 3, 2, 1, 2, 3, 4, 1, 3, 3, 4, 1, 3, 4, 1, 3, 1, 2, 3, 1, 2, 1, 2, 2, 3, 1, 2, 3, 1, 2, 3, 1, 2, 3, 2, 3, 1, 2, 3, 1, 3, 3, 1, 2, 1, 1, 2, 1, 2, 3, 2, 1, 1, 2, 3, 2, 4, 4, 4, 1, 3, 2, 2, 1, 2, 2, 1, 3, 2, 1, 2, 3, 2, 3, 4, 1, 2, 3, 1, 1, 2, 3, 1, 2, 3, 1, 1, 2, 3, 4, 3, 1, 3, 1, 2, 3, 2, 1, 2, 3, 1, 2, 1, 2, 3, 1, 3, 3, 4, 1, 3, 4, 3, 4, 3, 2, 3, 2, 3, 1, 3, 3, 1, 1, 3, 1, 3, 1, 2, 3, 2, 1, 3, 3, 1, 2, 1, 2, 2, 2, 2, 3, 1, 2, 3, 2, 2, 1, 3, 1, 1, 4, 2, 4, 2, 4, 2, 3, 4, 1, 2, 3, 1, 2, 3, 2, 4, 2, 3, 2, 2, 1, 3, 1, 1, 3, 1, 2, 3, 1, 2, 3, 2, 3, 4, 1, 3, 1, 2, 3, 3, 3, 1, 3, 4, 1, 3, 2, 1, 4, 2, 3, 1, 2, 3, 1, 2, 3, 4, 3, 1, 2, 3, 1, 2, 3, 2, 2, 3, 2, 3, 4, 1, 1, 1, 2, 3, 4, 1, 2, 3, 4, 4, 4, 2, 3, 2, 1, 3, 1, 2, 3, 4, 1, 2, 3, 2, 2, 1, 2, 3, 3, 1, 2, 1, 2, 1, 2, 1, 2, 3, 1, 2, 3, 3, 2, 3, 1, 1, 2, 3, 1, 2, 3, 4, 2, 3, 1, 4, 2, 1, 2, 3, 1, 3, 3, 4, 4], \"Freq\": [0.11146794374611543, 0.885876816087549, 0.795728729538647, 0.20238187340867322, 0.9994571951433993, 0.06579007784424555, 0.7278027361519663, 0.20970587312853267, 0.5929039846336603, 0.2950558290877085, 0.11169305832973193, 0.9543066466217709, 0.03976277694257379, 0.14470531002151632, 0.07411735391345958, 0.779996914994027, 0.015541858757271092, 0.6682999265626569, 0.31705391864833027, 0.2683033516473403, 0.7264829213835676, 0.8487423418752243, 0.04523078310933797, 0.1037647377214224, 0.23116494980130575, 0.0024205753905895888, 0.7661121111216049, 0.6099922557284927, 0.38835519818084097, 0.8863462134375458, 0.013274770477751262, 0.1000713466784326, 0.9985851054740926, 0.9979562260733786, 0.9974551612766805, 0.4597898974220479, 0.01999086510530643, 0.5197624927379672, 0.4593663110906753, 0.4134296799816078, 0.12678510186102637, 0.1926519058691259, 0.07457493130417776, 0.7271055802157332, 0.9894291418839067, 0.00627015042354863, 0.9906837669206835, 0.3902328080253081, 0.6070288124838126, 0.9917842699216749, 0.9901998135983404, 0.9510420364033402, 0.012737170130401878, 0.03396578701440501, 0.8077615150349593, 0.1318415346378899, 0.0594215367382039, 0.5195308881263203, 0.23446026163951234, 0.24478890752671553, 0.9996813003570348, 0.9995600014365671, 0.9942472164235994, 0.9920727707187939, 0.13668496743155742, 0.8619193240389974, 0.9845535688257532, 0.044104814796388746, 0.9537666199719067, 0.9983439178236932, 0.9988087338417956, 0.9899254574577143, 0.9729858285109784, 0.025785843511775045, 0.9921926633592097, 0.8941002543422535, 0.10035819181392641, 0.745000104411452, 0.22328533388700578, 0.030057641100173855, 0.9976176474133408, 0.9673609432616911, 0.029313967977627003, 0.9957399962991608, 0.9986318177479909, 0.9818871171242819, 0.008048255058395754, 0.779674158036498, 0.17148258607840866, 0.04801512410195442, 0.9880248200327503, 0.9961826675763366, 0.21202147200327517, 0.7870237040761575, 0.9944672458683509, 0.9982190712631821, 0.9912925256653448, 0.3083055178626593, 0.6851233730281318, 0.004282021081425823, 0.9943002518174513, 0.04278278232004381, 0.7016376300487185, 0.25241841568825846, 0.002693059113244129, 0.21140514038966415, 0.7863732610672858, 0.6178802777123807, 0.28767705237620966, 0.0950585042634432, 0.9752950550480227, 0.9823479328980161, 0.9866189577073025, 0.9921003904336878, 0.9854373611682673, 0.01082898199086008, 0.19729470255228265, 0.01953412896557254, 0.7833185715194588, 0.997016854919933, 0.3668710966153217, 0.1431692084352475, 0.48916146215376227, 0.9973755071117923, 0.9868154820337703, 0.9871502603054484, 0.9867856844949279, 0.9982322847458606, 0.19203279909088453, 0.08252649217128921, 0.7252809023515225, 0.9912208340828668, 0.99414061416918, 0.7668040773163162, 0.1612660121366273, 0.07114677006027675, 0.9884890203165846, 0.00923821514314565, 0.9581080854037616, 0.03910645246545966, 0.9717812676846282, 0.02850558385208243, 0.9824408224122325, 0.0009428414802420658, 0.016028305164115117, 0.8664850164656818, 0.046399571242869635, 0.08740384350401025, 0.9876985664344012, 0.044522113284906455, 0.9498050834113377, 0.9301371638314532, 0.06527278342676865, 0.5195591575949714, 0.448952400280783, 0.031972871236613624, 0.16097673004093152, 0.8381891805579537, 0.9834394769514027, 0.9934711431397316, 0.006947350651326794, 0.9963523648208091, 0.9502865473555316, 0.04861931172516674, 0.08659645895794994, 0.5768852339404607, 0.3361980171308645, 0.9944117864002835, 0.9909711456432606, 0.9903923883072437, 0.008236111337274376, 0.002059027834318594, 0.9928207638340226, 0.9941347810651919, 0.998771855385684, 0.995413985425929, 0.013620569422681958, 0.980680998433101, 0.9947588654936782, 0.9838347724311689, 0.9620844691235579, 0.03563275811568733, 0.9923971685033606, 0.9835970695590507, 0.010353653363779481, 0.9863081283256478, 0.18324472103983264, 0.7797249864654102, 0.03552703775262061, 0.1642924425104666, 0.2840570267704329, 0.5512241762734347, 0.20845448560655097, 0.7351943148274056, 0.05827759812656264, 0.9893513001031145, 0.21873425398324262, 0.556209960128817, 0.22498380409704954, 0.13621999773289248, 0.3219745400959277, 0.5399265364685556, 0.9966281351315114, 0.0632193895668943, 0.9195547573366443, 0.01724165170006208, 0.9985401733438842, 0.987143582134884, 0.9786038605054311, 0.018551731952709594, 0.9988242852603512, 0.9892466304595812, 0.010523900324038098, 0.9937694781303851, 0.8924350781032648, 0.08789133344956396, 0.020282615411437836, 0.8092501381108403, 0.19076616158940404, 0.9907607214587651, 0.9542635242993854, 0.04654944020972612, 0.07416593621488594, 0.9178034606592136, 0.06480696558549646, 0.9326567655999708, 0.0023593423897316384, 0.14627922816336156, 0.8517226026931214, 0.06832823142847202, 0.9317486103882548, 0.9808413907194106, 0.9794282486610417, 0.9931315489445014, 0.8412360873340575, 0.15689720676468533, 0.9933529127589279, 0.9882874439992548, 0.991526580956901, 0.99032772783175, 0.027242761952422253, 0.96711804931099, 0.1794216764430545, 0.8179517602551015, 0.6672272560154587, 0.13344545120309176, 0.19845733768664928, 0.9906401571397753, 0.9917155367401143, 0.0054192105832793136, 0.9964560606540726, 0.9835077569507877, 0.015130888568473657, 0.976560759970304, 0.01953121519940608, 0.9891657507579223, 0.9887814088886966, 0.9672290148453737, 0.024486810502414524, 0.20751388658680717, 0.7559434439947975, 0.03952645458796327, 0.9932449379552702, 0.9981926743148537, 0.02682047389506025, 0.9655370602221689, 0.9939167610457517, 0.9973193900293486, 0.9993577104273578, 0.9846420025436534, 0.9877327654787149, 0.12439775996676697, 0.8752590593345188, 0.05320123514458948, 0.030400705796908276, 0.9158212621318618, 0.21306155845677152, 0.6610042325616706, 0.12578332969134703, 0.24365778935331553, 0.5408404045645725, 0.2148981814296455, 0.13144816536552925, 0.8664848451646111, 0.9560347488985372, 0.034144098174947755, 0.9856493357239122, 0.9864662608048678, 0.13530804928884052, 0.8631720385667412, 0.9911277602809008, 0.1377016259471926, 0.8537500808725941, 0.32219181896322807, 0.055430850574318805, 0.6235970689610866, 0.1548682358300731, 0.34162110844869065, 0.5033217664477375, 0.038811940279872864, 0.9605955219268534, 0.9992420830325043, 0.954346888042489, 0.04568681910841703, 0.26014328323545305, 0.001819183798849322, 0.7367694385339754, 0.9936972324045457, 0.9951929995732175, 0.28117161103528987, 0.7147856617885079, 0.998724107893256, 0.9961670331802062, 0.9952014003630442, 0.9914092357021944, 0.9950492451387528, 0.9955312095667007, 0.04048480849183204, 0.9581404676400248, 0.9857000300714386, 0.9449499387069938, 0.047247496935349693, 0.3290831111577627, 0.4044979907980833, 0.2673800278156822, 0.9993706464791773, 0.9903503682975888, 0.8344296046796985, 0.006992426854857809, 0.15849500871011032, 0.8925904661404618, 0.0016288147192344193, 0.10587295675023725, 0.98475626168878, 0.9547614366274746, 0.040455993077435366, 0.8491353376331626, 0.15146738455078035, 0.9981668487773454, 0.9960797426520918, 0.9978596415213108, 0.11644573398643708, 0.11020756966573508, 0.17674798908655628, 0.5947049985735894, 0.28921807264497823, 0.5735753373463434, 0.13610262242116622, 0.9974089897524033, 0.9991576775059262, 0.9943700443303272, 0.8485733391280781, 0.1507617607587956, 0.9852953638794087, 0.01316732575464634, 0.9875494315984755, 0.9909421050321677, 0.9944029949084637, 0.9801289081567476, 0.9915160046631815, 0.1432411235914704, 0.2794086114500287, 0.5765013122323377, 0.9851158195567425, 0.9955354364214007, 0.7494393949187593, 0.13605207476986708, 0.11299240108005909, 0.9762225103958397, 0.9670584621461478, 0.030339089008506598, 0.964957166957225, 0.03327438506749052, 0.9251285481039166, 0.07205050997694055, 0.6053754462526632, 0.15214180810919303, 0.2425757499922798, 0.39672741885659635, 0.46043547151969944, 0.1433431184919819, 0.9874319985039408, 0.9437374577750413, 0.05081663234173299, 0.9852283533189518, 0.7611547209987497, 0.12221793284329517, 0.11757674552013206, 0.0011912382551459086, 0.09529906041167269, 0.03573714765437726, 0.8672214497462215, 0.08369030799715817, 0.912622882445201, 0.9970881456733754, 0.9937779404389214, 0.9932532575885191, 0.5548028576564675, 0.3504892304356726, 0.09302083840946761, 0.07594361800288753, 0.9176520508682242, 0.9942518967944007, 0.9985259008129643, 0.9983912706911167], \"Term\": [\"'\\uac00\\uc0c1',\", \"'\\uac00\\uc0c1',\", \"'\\uac00\\uc7a5',\", \"'\\uac00\\uc7a5',\", \"'\\uac15\\ub989',\", \"'\\uac19\\uc740',\", \"'\\uac19\\uc740',\", \"'\\uac19\\uc740',\", \"'\\uac1c\\ubc1c',\", \"'\\uac1c\\ubc1c',\", \"'\\uac1c\\ubc1c',\", \"'\\uac70\\ub300',\", \"'\\uac70\\ub300',\", \"'\\uacbd\\uc81c',\", \"'\\uacbd\\uc81c',\", \"'\\uacbd\\uc81c',\", \"'\\uacf5\\uac1c',\", \"'\\uacf5\\uac1c',\", \"'\\uacf5\\uac1c',\", \"'\\uacfc\\ud559',\", \"'\\uacfc\\ud559',\", \"'\\uacfc\\ud559\\uae30\\uc220',\", \"'\\uacfc\\ud559\\uae30\\uc220',\", \"'\\uacfc\\ud559\\uae30\\uc220',\", \"'\\uad11\\uc8fc',\", \"'\\uad11\\uc8fc',\", \"'\\uad11\\uc8fc',\", \"'\\uad50\\uc218',\", \"'\\uad50\\uc218',\", \"'\\uad50\\uc721',\", \"'\\uad50\\uc721',\", \"'\\uad50\\uc721',\", \"'\\uad50\\uc721\\uac10',\", \"'\\uad6c\\ub984',\", \"'\\uad6c\\ucd95',\", \"'\\uad6d\\uac00',\", \"'\\uad6d\\uac00',\", \"'\\uad6d\\uac00',\", \"'\\uad6d\\ub0b4',\", \"'\\uad6d\\ub0b4',\", \"'\\uad6d\\ub0b4',\", \"'\\uad6d\\ubbfc',\", \"'\\uad6d\\ubbfc',\", \"'\\uad6d\\ubbfc',\", \"'\\uad6d\\ud68c',\", \"'\\uaddc\\uc81c',\", \"'\\uaddc\\uc81c',\", \"'\\uadf8\\ub8f9',\", \"'\\uadf8\\ub8f9',\", \"'\\uadf8\\ub9bc',\", \"'\\uae08\\uc694\\uc77c',\", \"'\\uae30\\uad00',\", \"'\\uae30\\uad00',\", \"'\\uae30\\uad00',\", \"'\\uae30\\ubc18',\", \"'\\uae30\\ubc18',\", \"'\\uae30\\ubc18',\", \"'\\uae30\\uc5c5',\", \"'\\uae30\\uc5c5',\", \"'\\uae30\\uc5c5',\", \"'\\uae30\\uc628',\", \"'\\ub0a0\\uc528',\", \"'\\ub17c\\ubb38',\", \"'\\ub2ec\\ub7ec',\", \"'\\ub300\\uad6c',\", \"'\\ub300\\uad6c',\", \"'\\ub300\\uad6c\\uc2dc',\", \"'\\ub300\\ubd80\\ubd84',\", \"'\\ub300\\ubd80\\ubd84',\", \"'\\ub300\\uc804',\", \"'\\ub300\\ud1b5\\ub839',\", \"'\\ub300\\ud1b5\\ub839\\uc2e4',\", \"'\\ub300\\ud559',\", \"'\\ub300\\ud559',\", \"'\\ub300\\ud559\\uad50',\", \"'\\ub300\\ud654',\", \"'\\ub300\\ud654',\", \"'\\ub370\\uc774\\ud130',\", \"'\\ub370\\uc774\\ud130',\", \"'\\ub370\\uc774\\ud130',\", \"'\\ub3c4\\ub85c',\", \"'\\ub3c4\\uc2dc',\", \"'\\ub3c4\\uc2dc',\", \"'\\ub3d9\\ub9f9',\", \"'\\ub429\\ub2c8\\ub2e4',\", \"'\\ub4f1\\uc7a5',\", \"'\\ub4f1\\uc7a5',\", \"'\\ub514\\uc9c0\\ud138',\", \"'\\ub514\\uc9c0\\ud138',\", \"'\\ub514\\uc9c0\\ud138',\", \"'\\ub7ec\\uc2dc\\uc544',\", \"'\\ub808\\ub4dc',\", \"'\\ub85c\\ubd07',\", \"'\\ub85c\\ubd07',\", \"'\\ub9ce\\uc2b5\\ub2c8\\ub2e4',\", \"'\\ub9d1\\uc740',\", \"'\\uba38\\uc2a4\\ud06c',\", \"'\\ubaa8\\ub378',\", \"'\\ubaa8\\ub378',\", \"'\\ubaa8\\ub378',\", \"'\\ubaa8\\uc9d1',\", \"'\\ubb38\\uc81c',\", \"'\\ubb38\\uc81c',\", \"'\\ubb38\\uc81c',\", \"'\\ubbf8\\uad6d',\", \"'\\ubbf8\\uad6d',\", \"'\\ubbf8\\uad6d',\", \"'\\ubbf8\\ub798',\", \"'\\ubbf8\\ub798',\", \"'\\ubbf8\\ub798',\", \"'\\ubbfc\\uc8fc\\ub2f9',\", \"'\\ubc14\\uafc0',\", \"'\\ubc14\\ub451',\", \"'\\ubc14\\uc774\\ub4e0',\", \"'\\ubc14\\uc774\\uc624',\", \"'\\ubc14\\uc774\\uc624',\", \"'\\ubc18\\ub3c4\\uccb4',\", \"'\\ubc18\\ub3c4\\uccb4',\", \"'\\ubc18\\ub3c4\\uccb4',\", \"'\\ubc1c\\uba85',\", \"'\\ubc1c\\ud45c',\", \"'\\ubc1c\\ud45c',\", \"'\\ubc1c\\ud45c',\", \"'\\ubc1c\\ud6a8',\", \"'\\ubca4\\ucc98\\uae30\\uc5c5',\", \"'\\ubcf4\\ub3c4',\", \"'\\ubcf4\\uc218',\", \"'\\ubcf4\\uc774',\", \"'\\ubd80\\uc0b0',\", \"'\\ubd80\\uc0b0',\", \"'\\ubd80\\uc0b0',\", \"'\\ubd80\\uc0b0\\uc2dc',\", \"'\\ubd81\\ud55c',\", \"'\\ubd84\\uc57c',\", \"'\\ubd84\\uc57c',\", \"'\\ubd84\\uc57c',\", \"'\\ube14\\ub85d',\", \"'\\ube14\\ub85d',\", \"'\\ube45\\ub370\\uc774\\ud130',\", \"'\\ube45\\ub370\\uc774\\ud130',\", \"'\\uc0ac\\ub78c',\", \"'\\uc0ac\\ub78c',\", \"'\\uc0ac\\uc5c5',\", \"'\\uc0ac\\uc5c5',\", \"'\\uc0ac\\uc5c5',\", \"'\\uc0b0\\uc5c5',\", \"'\\uc0b0\\uc5c5',\", \"'\\uc0b0\\uc5c5',\", \"'\\uc0b0\\ud559',\", \"'\\uc0bc\\uc131',\", \"'\\uc0bc\\uc131',\", \"'\\uc0dd\\uac01',\", \"'\\uc0dd\\uac01',\", \"'\\uc11c\\ube44\\uc2a4',\", \"'\\uc11c\\ube44\\uc2a4',\", \"'\\uc11c\\ube44\\uc2a4',\", \"'\\uc11c\\uc6b8\\uc2dc',\", \"'\\uc11c\\uc6b8\\uc2dc',\", \"'\\uc120\\uac70',\", \"'\\uc120\\ub3c4',\", \"'\\uc120\\ub3c4',\", \"'\\uc120\\ubc1c',\", \"'\\uc120\\uc815',\", \"'\\uc120\\uc815',\", \"'\\uc138\\uacc4',\", \"'\\uc138\\uacc4',\", \"'\\uc138\\uacc4',\", \"'\\uc138\\uc0c1',\", \"'\\uc138\\uc885',\", \"'\\uc13c\\ud130',\", \"'\\uc13c\\ud130',\", \"'\\uc13c\\ud130',\", \"'\\uc218\\ub9ce\\uc740',\", \"'\\uc218\\uc694\\uc77c',\", \"'\\uc218\\uc6d0',\", \"'\\uc218\\uc6d0']\", \"'\\uc218\\ucd9c',\", \"'\\uc218\\ucd9c',\", \"'\\uc218\\ud559',\", \"'\\uc21c\\uac04',\", \"'\\uc2a4\\ub9c8\\ud2b8',\", \"'\\uc2a4\\ub9c8\\ud2b8',\", \"'\\uc2a4\\ub9c8\\ud2b8\\ud3f0',\", \"'\\uc2a4\\ucf00',\", \"'\\uc2a4\\ucf00',\", \"'\\uc2a4\\ucf00\\uc77c',\", \"'\\uc2a4\\ud0c0\\ud2b8\\uc5c5',\", \"'\\uc2a4\\ud0c0\\ud2b8\\uc5c5',\", \"'\\uc2a4\\ud0c0\\ud2b8\\uc5c5',\", \"'\\uc2dc\\uac04',\", \"'\\uc2dc\\uac04',\", \"'\\uc2dc\\uac04',\", \"'\\uc2dc\\ub300',\", \"'\\uc2dc\\ub300',\", \"'\\uc2dc\\ub300',\", \"'\\uc2dc\\uc124',\", \"'\\uc2dc\\uc791',\", \"'\\uc2dc\\uc791',\", \"'\\uc2dc\\uc791',\", \"'\\uc2dc\\uc7a5',\", \"'\\uc2dc\\uc7a5',\", \"'\\uc2dc\\uc7a5',\", \"'\\uc2dc\\ud2f0',\", \"'\\uc544\\uc774',\", \"'\\uc544\\uc774',\", \"'\\uc544\\uc774',\", \"'\\uc544\\uce68',\", \"'\\uc548\\ubcf4',\", \"'\\uc548\\uc804',\", \"'\\uc548\\uc804',\", \"'\\uc591\\uc131',\", \"'\\uc5b4\\ub5a4',\", \"'\\uc5b4\\ub5a4',\", \"'\\uc5b8\\uc5b4',\", \"'\\uc5c5\\ubb34',\", \"'\\uc5c5\\ubb34',\", \"'\\uc5c5\\ubb34',\", \"'\\uc5f0\\uad6c',\", \"'\\uc5f0\\uad6c',\", \"'\\uc5f0\\uad6c\\uac1c\\ubc1c',\", \"'\\uc601\\ud654',\", \"'\\uc601\\ud654',\", \"'\\uc608\\uc0b0',\", \"'\\uc608\\uc0b0',\", \"'\\uc608\\uc0c1',\", \"'\\uc608\\uc0c1',\", \"'\\uc624\\uc804',\", \"'\\uc624\\uc804',\", \"'\\uc624\\uc804',\", \"'\\uc624\\ud6c4',\", \"'\\uc624\\ud6c4',\", \"'\\uc678\\uad50',\", \"'\\uc694\\uc998',\", \"'\\uc6a9\\uc0b0',\", \"'\\uc6b0\\ub9ac',\", \"'\\uc6b0\\ub9ac',\", \"'\\uc6b0\\uc218',\", \"'\\uc6b0\\ud06c\\ub77c\\uc774\\ub098',\", \"'\\uc6b4\\ud56d',\", \"'\\uc6d0\\uc7a5',\", \"'\\uc704\\uc6d0\\uc7a5',\", \"'\\uc704\\uc6d0\\uc7a5',\", \"'\\uc704\\uc6d0\\ud68c',\", \"'\\uc704\\uc6d0\\ud68c',\", \"'\\uc704\\ud574',\", \"'\\uc704\\ud574',\", \"'\\uc704\\ud574',\", \"'\\uc720\\ub8cc',\", \"'\\uc721\\uc131',\", \"'\\uc721\\uc131',\", \"'\\uc724\\uc11d\\uc5f4',\", \"'\\uc735\\ud569',\", \"'\\uc735\\ud569',\", \"'\\uc758\\ub8cc',\", \"'\\uc758\\ub8cc',\", \"'\\uc774\\ubbf8\\uc9c0',\", \"'\\uc774\\uc57c\\uae30',\", \"'\\uc774\\uc5c8\\ub2e4',\", \"'\\uc774\\uc5c8\\ub2e4',\", \"'\\uc774\\uc6a9',\", \"'\\uc774\\uc6a9',\", \"'\\uc774\\uc6a9',\", \"'\\uc774\\uc81c',\", \"'\\uc778\\uac04',\", \"'\\uc778\\uad8c',\", \"'\\uc778\\uad8c',\", \"'\\uc778\\ub825',\", \"'\\uc778\\uc7ac',\", \"'\\uc778\\ucc9c',\", \"'\\uc77c\\uae4c',\", \"'\\uc77c\\uc694\\uc77c',\", \"'\\uc785\\ub2c8\\ub2e4',\", \"'\\uc785\\ub2c8\\ub2e4',\", \"'\\uc788\\uace0',\", \"'\\uc788\\uace0',\", \"'\\uc788\\uace0',\", \"'\\uc788\\ub294',\", \"'\\uc788\\ub294',\", \"'\\uc788\\ub294',\", \"'\\uc788\\ub2e4',\", \"'\\uc788\\ub2e4',\", \"'\\uc788\\ub2e4',\", \"'\\uc788\\uc2b5\\ub2c8\\ub2e4',\", \"'\\uc788\\uc2b5\\ub2c8\\ub2e4',\", \"'\\uc790\\uc2e0',\", \"'\\uc790\\uc2e0',\", \"'\\uc791\\uac00',\", \"'\\uc791\\ud488',\", \"'\\uc7a5\\uad00',\", \"'\\uc7a5\\uad00',\", \"'\\uc7ac\\ub2e8',\", \"'\\uc804\\uae30\\ucc28',\", \"'\\uc804\\uae30\\ucc28',\", \"'\\uc804\\ub7b5',\", \"'\\uc804\\ub7b5',\", \"'\\uc804\\ub7b5',\", \"'\\uc804\\uc790',\", \"'\\uc804\\uc790',\", \"'\\uc804\\uc790',\", \"'\\uc804\\uc7c1',\", \"'\\uc804\\uc7c1',\", \"'\\uc804\\uc8fc',\", \"'\\uc815\\ubcf4\\ud1b5\\uc2e0\\ubd80',\", \"'\\uc815\\ubcf4\\ud1b5\\uc2e0\\ubd80',\", \"'\\uc815\\ubd80',\", \"'\\uc815\\ubd80',\", \"'\\uc815\\ubd80',\", \"'\\uc815\\uc0c1',\", \"'\\uc815\\uc0c1\\ud68c\\ub2f4',\", \"'\\uc815\\ucc45',\", \"'\\uc815\\ucc45',\", \"'\\uc81c\\uc8fc',\", \"'\\uc870\\uc131',\", \"'\\uc870\\ud76c\\uc5f0',\", \"'\\uc874\\uc7ac',\", \"'\\uc8fc\\uad00',\", \"'\\uc8fc\\uc758\\ubcf4',\", \"'\\uc911\\uad6d',\", \"'\\uc911\\uad6d',\", \"'\\uc911\\uc18c',\", \"'\\uc9c0\\uae08',\", \"'\\uc9c0\\uae08',\", \"'\\uc9c0\\ub09c',\", \"'\\uc9c0\\ub09c',\", \"'\\uc9c0\\ub09c',\", \"'\\uc9c0\\ubc29',\", \"'\\uc9c0\\ubc29\\uc120\\uac70',\", \"'\\uc9c0\\uc5ed',\", \"'\\uc9c0\\uc5ed',\", \"'\\uc9c0\\uc5ed',\", \"'\\uc9c0\\uc6d0',\", \"'\\uc9c0\\uc6d0',\", \"'\\uc9c0\\uc6d0',\", \"'\\uc9c0\\uc74c',\", \"'\\uc9c8\\ubb38',\", \"'\\uc9c8\\ubb38',\", \"'\\ucc57\\ubd07',\", \"'\\ucc57\\ubd07',\", \"'\\uccad\\uc8fc',\", \"'\\uccb4\\uacb0',\", \"'\\ucd1d\\uc7a5',\", \"'\\ucd5c\\uace0',\", \"'\\ucd5c\\uace0',\", \"'\\ucd5c\\uace0',\", \"'\\ucd5c\\uace0',\", \"'\\ucd5c\\uadfc',\", \"'\\ucd5c\\uadfc',\", \"'\\ucd5c\\uadfc',\", \"'\\ucd5c\\uc800',\", \"'\\ucd98\\ucc9c',\", \"'\\ucd98\\ucc9c']\", \"'\\ucd9c\\uc2dc',\", \"'\\ucd9c\\uc2dc',\", \"'\\uce74\\uba54\\ub77c',\", \"'\\uce90\\ub098\\ub2e4',\", \"'\\uce90\\ub098\\ub2e4',\", \"'\\ucea0\\ud37c\\uc2a4',\", \"'\\ucfe0\\ud321',\", \"'\\ud14c\\uc2ac\\ub77c',\", \"'\\ud1a0\\uc694\\uc77c',\", \"'\\ud22c\\uc790',\", \"'\\ud22c\\uc790',\", \"'\\ud22c\\uc790',\", \"'\\ud2b9\\ud5c8\\uccad',\", \"'\\ud45c\\uc808',\", \"'\\ud50c\\ub7ab\\ud3fc',\", \"'\\ud50c\\ub7ab\\ud3fc',\", \"'\\ud50c\\ub7ab\\ud3fc',\", \"'\\ud53c\\ud574',\", \"'\\ud559\\uacfc',\", \"'\\ud559\\uacfc',\", \"'\\ud559\\uad50',\", \"'\\ud559\\uad50',\", \"'\\ud559\\uc0dd',\", \"'\\ud559\\uc0dd',\", \"'\\ud55c\\uad6d',\", \"'\\ud55c\\uad6d',\", \"'\\ud55c\\uad6d',\", \"'\\ud55c\\ub2e4',\", \"'\\ud55c\\ub2e4',\", \"'\\ud55c\\ub2e4',\", \"'\\ud55c\\ubbf8',\", \"'\\ud569\\ub2c8\\ub2e4',\", \"'\\ud569\\ub2c8\\ub2e4',\", \"'\\ud574\\uc591',\", \"'\\ud601\\uc2e0',\", \"'\\ud601\\uc2e0',\", \"'\\ud601\\uc2e0',\", \"'\\ud604\\uc7ac',\", \"'\\ud604\\uc7ac',\", \"'\\ud604\\uc7ac',\", \"'\\ud604\\uc7ac',\", \"'\\ud604\\uc9c0',\", \"'\\ud604\\uc9c0',\", \"'\\ud611\\uc57d',\", \"'\\ud654\\uc694\\uc77c',\", \"'\\ud654\\uc81c',\", \"'\\ud65c\\uc6a9',\", \"'\\ud65c\\uc6a9',\", \"'\\ud65c\\uc6a9',\", \"'\\ud68c\\uc758',\", \"'\\ud68c\\uc758',\", \"'\\ud6c4\\ubcf4',\", \"'\\ud750\\ub9b0',\", \"['\\uc624\\ub298',\"]}, \"R\": 30, \"lambda.step\": 0.01, \"plot.opts\": {\"xlab\": \"PC1\", \"ylab\": \"PC2\"}, \"topic.order\": [3, 2, 1, 4]};\n",
              "\n",
              "function LDAvis_load_lib(url, callback){\n",
              "  var s = document.createElement('script');\n",
              "  s.src = url;\n",
              "  s.async = true;\n",
              "  s.onreadystatechange = s.onload = callback;\n",
              "  s.onerror = function(){console.warn(\"failed to load library \" + url);};\n",
              "  document.getElementsByTagName(\"head\")[0].appendChild(s);\n",
              "}\n",
              "\n",
              "if(typeof(LDAvis) !== \"undefined\"){\n",
              "   // already loaded: just create the visualization\n",
              "   !function(LDAvis){\n",
              "       new LDAvis(\"#\" + \"ldavis_el164411359326773681608338373424\", ldavis_el164411359326773681608338373424_data);\n",
              "   }(LDAvis);\n",
              "}else if(typeof define === \"function\" && define.amd){\n",
              "   // require.js is available: use it to load d3/LDAvis\n",
              "   require.config({paths: {d3: \"https://d3js.org/d3.v5\"}});\n",
              "   require([\"d3\"], function(d3){\n",
              "      window.d3 = d3;\n",
              "      LDAvis_load_lib(\"https://cdn.jsdelivr.net/gh/bmabey/pyLDAvis@3.4.0/pyLDAvis/js/ldavis.v3.0.0.js\", function(){\n",
              "        new LDAvis(\"#\" + \"ldavis_el164411359326773681608338373424\", ldavis_el164411359326773681608338373424_data);\n",
              "      });\n",
              "    });\n",
              "}else{\n",
              "    // require.js not available: dynamically load d3 & LDAvis\n",
              "    LDAvis_load_lib(\"https://d3js.org/d3.v5.js\", function(){\n",
              "         LDAvis_load_lib(\"https://cdn.jsdelivr.net/gh/bmabey/pyLDAvis@3.4.0/pyLDAvis/js/ldavis.v3.0.0.js\", function(){\n",
              "                 new LDAvis(\"#\" + \"ldavis_el164411359326773681608338373424\", ldavis_el164411359326773681608338373424_data);\n",
              "            })\n",
              "         });\n",
              "}\n",
              "</script>"
            ]
          },
          "metadata": {},
          "execution_count": 35
        }
      ],
      "source": [
        "import pyLDAvis\n",
        "import pyLDAvis.gensim_models\n",
        "#pyLDAvis.enable_notebook() # Jupyter Notebook에서 pyLDAvis 시각화를 사용할 수 있도록 설정\n",
        "# pyLDAvis를 이용해 LDA 모델 시각화\n",
        "vis = pyLDAvis.gensim_models.prepare(model, corpus, id2word)\n",
        "vis  # 시각화 객체 출력"
      ]
    },
    {
      "cell_type": "code",
      "source": [
        "# 필요한 라이브러리를 불러옵니다.\n",
        "import openpyxl\n",
        "import pandas as pd\n",
        "import re\n",
        "\n",
        "# '정제파일.csv'를 DataFrame 형식으로 불러옵니다.\n",
        "df = pd.read_csv('/content/정제파일.csv', encoding='utf-8')\n",
        "# 'library.xlsx' 파일을 엽니다.\n",
        "wb = openpyxl.load_workbook('/content/library.xlsx')\n",
        "# 활성화된 워크시트를 선택합니다.\n",
        "ws = wb.active\n",
        "# '제목_본문' 열의 모든 값을 문자열 타입으로 변환합니다.\n",
        "df['제목_본문'] = df['제목_본문'].astype(str)\n",
        "# 정규 표현식 (Regular Expression): 문자열에서 특정 패턴을 찾고, 그 패턴에 맞는 문자열을 다른 문자열로 변경하거나 추출할 수 있는 방법입니다. 복잡한 문자열 처리를 간단하게 할 수 있도록 해줍니다.\n",
        "#[ ] (대괄호): 대괄호 안에 넣은 모든 문자는 \"이 중 어느 하나\"를 의미합니다. 예를 들어, [abc]는 'a' 또는 'b' 또는 'c' 중 어느 하나를 찾습니다.\n",
        "#^ (캐럿), $ (달러), . (점), * (별표), + (플러스), ? (물음표), | (파이프), ( ) (괄호) 등은 특별한 의미를 가지는 메타문자입니다. 이 예제에서는 메타문자 중 점(.)만 사용되어 있으며, 이는 어떤 하나의 문자를 의미합니다.\n",
        "\n",
        "# 정의: 특수 문자 제거\n",
        "# 이 줄은 제거하고자 하는 특수 문자를 정의합니다.\n",
        "# 문자 집합 [ ] 안에 넣은 문자들은 모두 제거 대상입니다.\n",
        "# 여기서는 대괄호 [ ], 작은따옴표 ' , 쉼표 , 그리고 마침표 . 를 제거 대상으로 설정합니다.\n",
        "chars_to_remove = r\"[\\[\\]',\\.]\"\n",
        "# 데이터 프레임 내용 수정\n",
        "# '제목_본문' 열의 내용을 수정합니다. replace 함수를 사용해 특정 패턴의 문자를 다른 문자로 바꿉니다.\n",
        "# 여기서는 chars_to_remove에 정의된 특수 문자들을 빈 문자열 '' (즉, 아무 것도 없는 상태)로 바꿉니다.\n",
        "# regex=True 파라미터는 replace 함수에게 첫 번째 파라미터(chars_to_remove)가 정규 표현식 패턴임을 알려줍니다. 정규 표현식을 사용하면 복잡한 문자 패턴도 쉽게 지정할 수 있습니다.\n",
        "df['제목_본문'] = df['제목_본문'].replace(chars_to_remove, '', regex=True)\n",
        "\n",
        "# 각 행에 공백을 추가하여 단어 경계를 만듭니다. 이는 나중에 정확한 단어 매칭을 위함입니다.\n",
        "df['제목_본문'] = ' ' + df['제목_본문'].astype(str) + ' '\n",
        "\n",
        "# 'library.xlsx'의 첫 번째 열에서 '수정전' 단어와 두 번째 열에서 '수정후' 단어를 읽어와서 문자열 대체를 실행합니다.\n",
        "for j in range(1, ws.max_row + 1):  # 최대 행까지 반복\n",
        "    a = ws.cell(row=j, column=1).value  # '수정전' 단어\n",
        "    b = ws.cell(row=j, column=2).value  # '수정후' 단어\n",
        "\n",
        "    if a is None:  # '수정전' 단어가 없으면 반복을 중지합니다.\n",
        "        break\n",
        "    else:\n",
        "        if b is None:  # '수정후' 단어가 없으면 해당 단어를 공백으로 대체합니다.\n",
        "            pattern = r'\\b' + re.escape(a) + r'\\b'  # 단어 경계를 고려하여 정규 표현식 패턴을 만듭니다.\n",
        "            df['제목_본문'] = df['제목_본문'].str.replace(pattern, \" \", regex=True)  # 패턴에 매칭되는 부분을 공백으로 대체합니다.\n",
        "        else:\n",
        "            pattern = r'\\b' + re.escape(a) + r'\\b'  # 단어 경계를 고려하여 정규 표현식 패턴을 만듭니다.\n",
        "            replacement = f\" {b} \"  # 대체할 문자열 앞뒤에 공백을 추가합니다.\n",
        "            df['제목_본문'] = df['제목_본문'].str.replace(pattern, replacement, regex=True)  # 패턴에 매칭되는 부분을 '수정후' 단어로 대체합니다.\n",
        "\n",
        "    # 모든 데이터를 문자열 타입으로 변환합니다.\n",
        "    df = df.astype(str)\n",
        "\n",
        "# 데이터프레임을 CSV 파일로 저장합니다. 인코딩은 cp949를 사용합니다.\n",
        "df.to_csv('정제파일.csv', encoding='utf-8')\n"
      ],
      "metadata": {
        "colab": {
          "base_uri": "https://localhost:8080/"
        },
        "id": "bGQ-H_7MZNUk",
        "outputId": "0db48993-2e6b-478c-e4a9-db3177fe6a4d"
      },
      "execution_count": 37,
      "outputs": [
        {
          "output_type": "stream",
          "name": "stderr",
          "text": [
            "/usr/local/lib/python3.10/dist-packages/ipykernel/ipkernel.py:283: DeprecationWarning: `should_run_async` will not call `transform_cell` automatically in the future. Please pass the result to `transformed_cell` argument and any exception that happen during thetransform in `preprocessing_exc_tuple` in IPython 7.17 and above.\n",
            "  and should_run_async(code)\n"
          ]
        }
      ]
    }
  ],
  "metadata": {
    "colab": {
      "provenance": []
    },
    "kernelspec": {
      "display_name": "Python 3",
      "name": "python3"
    },
    "language_info": {
      "codemirror_mode": {
        "name": "ipython",
        "version": 3
      },
      "file_extension": ".py",
      "mimetype": "text/x-python",
      "name": "python",
      "nbconvert_exporter": "python",
      "pygments_lexer": "ipython3",
      "version": "3.11.8"
    }
  },
  "nbformat": 4,
  "nbformat_minor": 0
}